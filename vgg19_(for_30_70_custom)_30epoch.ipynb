{
  "cells": [
    {
      "cell_type": "markdown",
      "metadata": {
        "id": "view-in-github",
        "colab_type": "text"
      },
      "source": [
        "<a href=\"https://colab.research.google.com/github/SMunira38/RPDC_withVGG19_30ep/blob/main/vgg19_(for_30_70_custom)_30epoch.ipynb\" target=\"_parent\"><img src=\"https://colab.research.google.com/assets/colab-badge.svg\" alt=\"Open In Colab\"/></a>"
      ]
    },
    {
      "cell_type": "code",
      "execution_count": null,
      "metadata": {
        "colab": {
          "base_uri": "https://localhost:8080/"
        },
        "id": "UR3vRpTkjynv",
        "outputId": "814b837a-8e23-4d23-d2ce-bda037c86e4c"
      },
      "outputs": [
        {
          "output_type": "stream",
          "name": "stdout",
          "text": [
            "Mounted at /content/drive\n"
          ]
        }
      ],
      "source": [
        "from google.colab import drive\n",
        "drive.mount('/content/drive')"
      ]
    },
    {
      "cell_type": "code",
      "execution_count": null,
      "metadata": {
        "id": "dZSnLOhMkdu3"
      },
      "outputs": [],
      "source": [
        "import os\n",
        "import torch\n",
        "import torch.nn as nn\n",
        "import torchvision\n",
        "import torchvision.transforms as transforms\n",
        "import torch.optim as optim\n",
        "from torchvision.models import vgg19\n",
        "import matplotlib.pyplot as plt"
      ]
    },
    {
      "cell_type": "code",
      "execution_count": null,
      "metadata": {
        "id": "BnZOA3ZUk_9q"
      },
      "outputs": [],
      "source": [
        "# Define paths for the dataset\n",
        "data_dir = '/content/drive/MyDrive/Full Custom Data BRRI'\n",
        "batch_size = 32"
      ]
    },
    {
      "cell_type": "code",
      "execution_count": null,
      "metadata": {
        "id": "eWxLBeVbmU7T"
      },
      "outputs": [],
      "source": [
        "# Define data transformations\n",
        "transform = transforms.Compose([\n",
        "    transforms.Resize((224, 224)),\n",
        "    transforms.ToTensor(),\n",
        "    transforms.Normalize(mean=[0.485, 0.456, 0.406], std=[0.229, 0.224, 0.225])\n",
        "])"
      ]
    },
    {
      "cell_type": "code",
      "execution_count": null,
      "metadata": {
        "id": "keLWxxyClCql"
      },
      "outputs": [],
      "source": [
        "# Load the entire dataset from Google Drive\n",
        "dataset = torchvision.datasets.ImageFolder(root=data_dir, transform=transform)\n"
      ]
    },
    {
      "cell_type": "code",
      "execution_count": null,
      "metadata": {
        "colab": {
          "base_uri": "https://localhost:8080/"
        },
        "id": "NTzRc-5onDcb",
        "outputId": "5d88977c-8d3a-4545-c290-58f26a1ac07c"
      },
      "outputs": [
        {
          "output_type": "stream",
          "name": "stdout",
          "text": [
            "Total Size: 1600\n",
            "Train Size: 1120\n",
            "Test Size: 480\n"
          ]
        }
      ],
      "source": [
        "# Calculate the sizes of train and test sets\n",
        "train_size = int(0.7 * len(dataset))\n",
        "test_size = len(dataset) - train_size\n",
        "print(\"Total Size:\", train_size+test_size)\n",
        "print(\"Train Size:\", train_size)\n",
        "print(\"Test Size:\", test_size)"
      ]
    },
    {
      "cell_type": "code",
      "execution_count": null,
      "metadata": {
        "id": "uodTbqkonm2Y"
      },
      "outputs": [],
      "source": [
        "# Split the dataset into train and test sets\n",
        "train_dataset, test_dataset = torch.utils.data.random_split(dataset, [train_size, test_size])\n",
        "\n",
        "# Create data loaders for train and test sets\n",
        "train_loader = torch.utils.data.DataLoader(train_dataset, batch_size=batch_size, shuffle=True)\n",
        "test_loader = torch.utils.data.DataLoader(test_dataset, batch_size=batch_size, shuffle=False)\n"
      ]
    },
    {
      "cell_type": "code",
      "execution_count": null,
      "metadata": {
        "colab": {
          "base_uri": "https://localhost:8080/"
        },
        "id": "_hHoWP1GnzuL",
        "outputId": "748ddb40-b773-48e6-b158-ae2c8584fbba"
      },
      "outputs": [
        {
          "output_type": "stream",
          "name": "stdout",
          "text": [
            "Number of classes:  8\n"
          ]
        }
      ],
      "source": [
        "num_classes = len(dataset.classes)\n",
        "print(\"Number of classes: \", num_classes)"
      ]
    },
    {
      "cell_type": "code",
      "execution_count": null,
      "metadata": {
        "colab": {
          "base_uri": "https://localhost:8080/"
        },
        "id": "94FDEMkVn-_p",
        "outputId": "2880496b-b560-4caa-e733-a1625e08ed41"
      },
      "outputs": [
        {
          "output_type": "stream",
          "name": "stderr",
          "text": [
            "/usr/local/lib/python3.10/dist-packages/torchvision/models/_utils.py:208: UserWarning: The parameter 'pretrained' is deprecated since 0.13 and may be removed in the future, please use 'weights' instead.\n",
            "  warnings.warn(\n",
            "/usr/local/lib/python3.10/dist-packages/torchvision/models/_utils.py:223: UserWarning: Arguments other than a weight enum or `None` for 'weights' are deprecated since 0.13 and may be removed in the future. The current behavior is equivalent to passing `weights=VGG19_Weights.IMAGENET1K_V1`. You can also use `weights=VGG19_Weights.DEFAULT` to get the most up-to-date weights.\n",
            "  warnings.warn(msg)\n",
            "Downloading: \"https://download.pytorch.org/models/vgg19-dcbb9e9d.pth\" to /root/.cache/torch/hub/checkpoints/vgg19-dcbb9e9d.pth\n",
            "100%|██████████| 548M/548M [00:03<00:00, 191MB/s]\n"
          ]
        },
        {
          "output_type": "execute_result",
          "data": {
            "text/plain": [
              "VGG(\n",
              "  (features): Sequential(\n",
              "    (0): Conv2d(3, 64, kernel_size=(3, 3), stride=(1, 1), padding=(1, 1))\n",
              "    (1): ReLU(inplace=True)\n",
              "    (2): Conv2d(64, 64, kernel_size=(3, 3), stride=(1, 1), padding=(1, 1))\n",
              "    (3): ReLU(inplace=True)\n",
              "    (4): MaxPool2d(kernel_size=2, stride=2, padding=0, dilation=1, ceil_mode=False)\n",
              "    (5): Conv2d(64, 128, kernel_size=(3, 3), stride=(1, 1), padding=(1, 1))\n",
              "    (6): ReLU(inplace=True)\n",
              "    (7): Conv2d(128, 128, kernel_size=(3, 3), stride=(1, 1), padding=(1, 1))\n",
              "    (8): ReLU(inplace=True)\n",
              "    (9): MaxPool2d(kernel_size=2, stride=2, padding=0, dilation=1, ceil_mode=False)\n",
              "    (10): Conv2d(128, 256, kernel_size=(3, 3), stride=(1, 1), padding=(1, 1))\n",
              "    (11): ReLU(inplace=True)\n",
              "    (12): Conv2d(256, 256, kernel_size=(3, 3), stride=(1, 1), padding=(1, 1))\n",
              "    (13): ReLU(inplace=True)\n",
              "    (14): Conv2d(256, 256, kernel_size=(3, 3), stride=(1, 1), padding=(1, 1))\n",
              "    (15): ReLU(inplace=True)\n",
              "    (16): Conv2d(256, 256, kernel_size=(3, 3), stride=(1, 1), padding=(1, 1))\n",
              "    (17): ReLU(inplace=True)\n",
              "    (18): MaxPool2d(kernel_size=2, stride=2, padding=0, dilation=1, ceil_mode=False)\n",
              "    (19): Conv2d(256, 512, kernel_size=(3, 3), stride=(1, 1), padding=(1, 1))\n",
              "    (20): ReLU(inplace=True)\n",
              "    (21): Conv2d(512, 512, kernel_size=(3, 3), stride=(1, 1), padding=(1, 1))\n",
              "    (22): ReLU(inplace=True)\n",
              "    (23): Conv2d(512, 512, kernel_size=(3, 3), stride=(1, 1), padding=(1, 1))\n",
              "    (24): ReLU(inplace=True)\n",
              "    (25): Conv2d(512, 512, kernel_size=(3, 3), stride=(1, 1), padding=(1, 1))\n",
              "    (26): ReLU(inplace=True)\n",
              "    (27): MaxPool2d(kernel_size=2, stride=2, padding=0, dilation=1, ceil_mode=False)\n",
              "    (28): Conv2d(512, 512, kernel_size=(3, 3), stride=(1, 1), padding=(1, 1))\n",
              "    (29): ReLU(inplace=True)\n",
              "    (30): Conv2d(512, 512, kernel_size=(3, 3), stride=(1, 1), padding=(1, 1))\n",
              "    (31): ReLU(inplace=True)\n",
              "    (32): Conv2d(512, 512, kernel_size=(3, 3), stride=(1, 1), padding=(1, 1))\n",
              "    (33): ReLU(inplace=True)\n",
              "    (34): Conv2d(512, 512, kernel_size=(3, 3), stride=(1, 1), padding=(1, 1))\n",
              "    (35): ReLU(inplace=True)\n",
              "    (36): MaxPool2d(kernel_size=2, stride=2, padding=0, dilation=1, ceil_mode=False)\n",
              "  )\n",
              "  (avgpool): AdaptiveAvgPool2d(output_size=(7, 7))\n",
              "  (classifier): Sequential(\n",
              "    (0): Linear(in_features=25088, out_features=4096, bias=True)\n",
              "    (1): ReLU(inplace=True)\n",
              "    (2): Dropout(p=0.5, inplace=False)\n",
              "    (3): Linear(in_features=4096, out_features=4096, bias=True)\n",
              "    (4): ReLU(inplace=True)\n",
              "    (5): Dropout(p=0.5, inplace=False)\n",
              "    (6): Linear(in_features=4096, out_features=8, bias=True)\n",
              "  )\n",
              ")"
            ]
          },
          "metadata": {},
          "execution_count": 9
        }
      ],
      "source": [
        "# Load the pre-trained VGG19 model and modify it for your classification task\n",
        "\n",
        "model = vgg19(pretrained=True)\n",
        "model.classifier[6] = nn.Linear(4096, num_classes)\n",
        "device = torch.device(\"cuda\" if torch.cuda.is_available() else \"cpu\")\n",
        "model.to(device)"
      ]
    },
    {
      "cell_type": "code",
      "execution_count": null,
      "metadata": {
        "id": "O1IhYL4UoIWe"
      },
      "outputs": [],
      "source": [
        "# Define loss function and optimizer\n",
        "criterion = nn.CrossEntropyLoss()\n",
        "optimizer = optim.SGD(model.parameters(), lr=0.001, momentum=0.9)"
      ]
    },
    {
      "cell_type": "code",
      "execution_count": null,
      "metadata": {
        "colab": {
          "base_uri": "https://localhost:8080/"
        },
        "id": "pOUnh56DprIE",
        "outputId": "2be7083f-a180-47d9-c12d-9a87eb8f692c"
      },
      "outputs": [
        {
          "output_type": "stream",
          "name": "stdout",
          "text": [
            "Epoch [1/30] - Loss: 1.2042038747242518 - Training Accuracy: 58.30%\n",
            "Epoch [2/30] - Loss: 0.5098119327000209 - Training Accuracy: 84.38%\n",
            "Epoch [3/30] - Loss: 0.2859189919063023 - Training Accuracy: 91.07%\n",
            "Epoch [4/30] - Loss: 0.18132287082927567 - Training Accuracy: 93.93%\n",
            "Epoch [5/30] - Loss: 0.17588808249150004 - Training Accuracy: 94.46%\n",
            "Epoch [6/30] - Loss: 0.14706669026719674 - Training Accuracy: 95.45%\n",
            "Epoch [7/30] - Loss: 0.1077712198187198 - Training Accuracy: 96.34%\n",
            "Epoch [8/30] - Loss: 0.05007322155205267 - Training Accuracy: 98.57%\n",
            "Epoch [9/30] - Loss: 0.02145157460223085 - Training Accuracy: 99.20%\n",
            "Epoch [10/30] - Loss: 0.057301152464268465 - Training Accuracy: 98.48%\n",
            "Epoch [11/30] - Loss: 0.04180236474411296 - Training Accuracy: 98.84%\n",
            "Epoch [12/30] - Loss: 0.01992581051973892 - Training Accuracy: 99.38%\n",
            "Epoch [13/30] - Loss: 0.015968569825054145 - Training Accuracy: 99.46%\n",
            "Epoch [14/30] - Loss: 0.019617335586891774 - Training Accuracy: 99.38%\n",
            "Epoch [15/30] - Loss: 0.006145095829353003 - Training Accuracy: 99.82%\n",
            "Epoch [16/30] - Loss: 0.004196038344525732 - Training Accuracy: 99.82%\n",
            "Epoch [17/30] - Loss: 0.024532558014782678 - Training Accuracy: 99.38%\n",
            "Epoch [18/30] - Loss: 0.012824055263938915 - Training Accuracy: 99.82%\n",
            "Epoch [19/30] - Loss: 0.001708301123289857 - Training Accuracy: 100.00%\n",
            "Epoch [20/30] - Loss: 0.0005111749354650134 - Training Accuracy: 100.00%\n",
            "Epoch [21/30] - Loss: 0.00029610268429678397 - Training Accuracy: 100.00%\n",
            "Epoch [22/30] - Loss: 0.00048013270570663736 - Training Accuracy: 100.00%\n",
            "Epoch [23/30] - Loss: 0.0002908948991327114 - Training Accuracy: 100.00%\n",
            "Epoch [24/30] - Loss: 0.000434818190043578 - Training Accuracy: 100.00%\n",
            "Epoch [25/30] - Loss: 0.00039562379737877304 - Training Accuracy: 100.00%\n",
            "Epoch [26/30] - Loss: 0.0003515658805684195 - Training Accuracy: 100.00%\n",
            "Epoch [27/30] - Loss: 0.0003215598317962888 - Training Accuracy: 100.00%\n",
            "Epoch [28/30] - Loss: 0.00012334372264766508 - Training Accuracy: 100.00%\n",
            "Epoch [29/30] - Loss: 9.881211633130857e-05 - Training Accuracy: 100.00%\n",
            "Epoch [30/30] - Loss: 0.00011186833407919038 - Training Accuracy: 100.00%\n",
            "Finished Training\n"
          ]
        }
      ],
      "source": [
        "# Training loop\n",
        "num_epochs = 30\n",
        "train_losses = []\n",
        "train_accuracies = []\n",
        "\n",
        "for epoch in range(num_epochs):\n",
        "    model.train()\n",
        "    running_loss = 0.0\n",
        "    correct_predictions_train = 0\n",
        "    total_samples_train = 0\n",
        "\n",
        "    for images, labels in train_loader:\n",
        "        images = images.to(device)\n",
        "        labels = labels.to(device)\n",
        "\n",
        "        optimizer.zero_grad()\n",
        "        outputs = model(images)\n",
        "        loss = criterion(outputs, labels)\n",
        "        loss.backward()\n",
        "        optimizer.step()\n",
        "\n",
        "        running_loss += loss.item()\n",
        "\n",
        "        _, predicted = torch.max(outputs.data, 1)\n",
        "        total_samples_train += labels.size(0)\n",
        "        correct_predictions_train += (predicted == labels).sum().item()\n",
        "\n",
        "    train_losses.append(running_loss / len(train_loader))\n",
        "    train_accuracy = correct_predictions_train / total_samples_train\n",
        "    train_accuracies.append(train_accuracy)\n",
        "\n",
        "    print(f\"Epoch [{epoch+1}/{num_epochs}] - Loss: {train_losses[-1]} - Training Accuracy: {train_accuracy*100:.2f}%\")\n",
        "\n",
        "print(\"Finished Training\")\n",
        "\n"
      ]
    },
    {
      "cell_type": "code",
      "source": [
        "# Testing loop\n",
        "test_accuracies = []\n",
        "\n",
        "model.eval()\n",
        "correct_predictions_test = 0\n",
        "total_samples_test = 0\n",
        "\n",
        "class_correct = [0] * len(train_dataset.dataset.classes)  # Use train_dataset.dataset.classes\n",
        "class_total = [0] * len(train_dataset.dataset.classes)    # Use train_dataset.dataset.classes\n",
        "\n",
        "predicted_labels = []\n",
        "actual_labels = []\n",
        "\n",
        "with torch.no_grad():\n",
        "    for images, labels in test_loader:\n",
        "        images = images.to(device)\n",
        "        labels = labels.to(device)\n",
        "\n",
        "        outputs = model(images)\n",
        "        _, predicted = torch.max(outputs.data, 1)\n",
        "\n",
        "        total_samples_test += labels.size(0)\n",
        "        correct_predictions_test += (predicted == labels).sum().item()\n",
        "\n",
        "        # Store predicted and actual labels\n",
        "        predicted_labels.extend(predicted.tolist())\n",
        "        actual_labels.extend(labels.tolist())\n",
        "\n",
        "        # Calculate correct predictions for each class\n",
        "        for i in range(len(labels)):\n",
        "            label = labels[i]\n",
        "            class_correct[label] += (predicted[i] == label).item()\n",
        "            class_total[label] += 1\n",
        "\n",
        "    test_accuracy = correct_predictions_test / total_samples_test\n",
        "    test_accuracies.append(test_accuracy)\n",
        "    print(f\"Testing Accuracy: {test_accuracy*100:.2f}%\")\n",
        "\n",
        "print(f\"Total Correct Predictions on Test Set: {correct_predictions_test} out of {total_samples_test} samples\")\n",
        "\n"
      ],
      "metadata": {
        "colab": {
          "base_uri": "https://localhost:8080/"
        },
        "id": "LBqbUiTadwM2",
        "outputId": "f482558e-abda-4cb5-8219-d3eba8e1e4e0"
      },
      "execution_count": 20,
      "outputs": [
        {
          "output_type": "stream",
          "name": "stdout",
          "text": [
            "Testing Accuracy: 93.75%\n",
            "Total Correct Predictions on Test Set: 450 out of 480 samples\n"
          ]
        }
      ]
    },
    {
      "cell_type": "code",
      "source": [
        "# Print correct predictions and actual labels for each class\n",
        "for i, class_name in enumerate(train_dataset.dataset.classes):\n",
        "    print(f\"Accuracy for class {class_name}: {class_correct[i]}/{class_total[i]} ({class_correct[i]/class_total[i]*100:.2f}%)\")\n"
      ],
      "metadata": {
        "colab": {
          "base_uri": "https://localhost:8080/"
        },
        "id": "0dYn-06GkJus",
        "outputId": "c2021061-3af5-479a-a428-b8909c036bcd"
      },
      "execution_count": 22,
      "outputs": [
        {
          "output_type": "stream",
          "name": "stdout",
          "text": [
            "Accuracy for class Bacterial Blight: 86/92 (93.48%)\n",
            "Accuracy for class Bakanae Pic: 15/16 (93.75%)\n",
            "Accuracy for class False Smut: 9/13 (69.23%)\n",
            "Accuracy for class Leaf blast: 96/98 (97.96%)\n",
            "Accuracy for class Neck blast: 144/146 (98.63%)\n",
            "Accuracy for class Node blast: 7/9 (77.78%)\n",
            "Accuracy for class Sheath Blight: 9/16 (56.25%)\n",
            "Accuracy for class Tungro: 84/90 (93.33%)\n"
          ]
        }
      ]
    },
    {
      "cell_type": "code",
      "source": [
        "# Print predicted and actual labels for each sample\n",
        "for i in range(len(predicted_labels)):\n",
        "    print(f\"Sample {i+1}: Predicted : {train_dataset.dataset.classes[predicted_labels[i]]},  Actual : {train_dataset.dataset.classes[actual_labels[i]]}\")\n"
      ],
      "metadata": {
        "colab": {
          "base_uri": "https://localhost:8080/"
        },
        "id": "On4I1gr-n3vO",
        "outputId": "cd226545-544f-464d-cd11-7afe72c2b36c"
      },
      "execution_count": 26,
      "outputs": [
        {
          "output_type": "stream",
          "name": "stdout",
          "text": [
            "Sample 1: Predicted : Neck blast,  Actual : Neck blast\n",
            "Sample 2: Predicted : Tungro,  Actual : Tungro\n",
            "Sample 3: Predicted : Bacterial Blight,  Actual : Tungro\n",
            "Sample 4: Predicted : Bacterial Blight,  Actual : Bacterial Blight\n",
            "Sample 5: Predicted : Node blast,  Actual : Node blast\n",
            "Sample 6: Predicted : Leaf blast,  Actual : Leaf blast\n",
            "Sample 7: Predicted : Neck blast,  Actual : Neck blast\n",
            "Sample 8: Predicted : Neck blast,  Actual : Neck blast\n",
            "Sample 9: Predicted : Bacterial Blight,  Actual : Bacterial Blight\n",
            "Sample 10: Predicted : Tungro,  Actual : Tungro\n",
            "Sample 11: Predicted : Bacterial Blight,  Actual : Bacterial Blight\n",
            "Sample 12: Predicted : Bacterial Blight,  Actual : Bacterial Blight\n",
            "Sample 13: Predicted : Tungro,  Actual : Tungro\n",
            "Sample 14: Predicted : Node blast,  Actual : Node blast\n",
            "Sample 15: Predicted : Tungro,  Actual : Tungro\n",
            "Sample 16: Predicted : Leaf blast,  Actual : Leaf blast\n",
            "Sample 17: Predicted : Neck blast,  Actual : Neck blast\n",
            "Sample 18: Predicted : Neck blast,  Actual : Neck blast\n",
            "Sample 19: Predicted : Neck blast,  Actual : Neck blast\n",
            "Sample 20: Predicted : Bakanae Pic,  Actual : Bakanae Pic\n",
            "Sample 21: Predicted : Sheath Blight,  Actual : Node blast\n",
            "Sample 22: Predicted : Leaf blast,  Actual : Leaf blast\n",
            "Sample 23: Predicted : Bacterial Blight,  Actual : Bacterial Blight\n",
            "Sample 24: Predicted : Bakanae Pic,  Actual : Bakanae Pic\n",
            "Sample 25: Predicted : Leaf blast,  Actual : Leaf blast\n",
            "Sample 26: Predicted : Leaf blast,  Actual : Tungro\n",
            "Sample 27: Predicted : Tungro,  Actual : Bakanae Pic\n",
            "Sample 28: Predicted : Bakanae Pic,  Actual : Bakanae Pic\n",
            "Sample 29: Predicted : Bacterial Blight,  Actual : Bacterial Blight\n",
            "Sample 30: Predicted : False Smut,  Actual : False Smut\n",
            "Sample 31: Predicted : Neck blast,  Actual : Neck blast\n",
            "Sample 32: Predicted : Leaf blast,  Actual : Leaf blast\n",
            "Sample 33: Predicted : Neck blast,  Actual : Bacterial Blight\n",
            "Sample 34: Predicted : False Smut,  Actual : Tungro\n",
            "Sample 35: Predicted : Leaf blast,  Actual : Leaf blast\n",
            "Sample 36: Predicted : Bacterial Blight,  Actual : Bacterial Blight\n",
            "Sample 37: Predicted : Neck blast,  Actual : Neck blast\n",
            "Sample 38: Predicted : Tungro,  Actual : Tungro\n",
            "Sample 39: Predicted : Neck blast,  Actual : Neck blast\n",
            "Sample 40: Predicted : Sheath Blight,  Actual : Node blast\n",
            "Sample 41: Predicted : Tungro,  Actual : Tungro\n",
            "Sample 42: Predicted : Bacterial Blight,  Actual : Bacterial Blight\n",
            "Sample 43: Predicted : Leaf blast,  Actual : Leaf blast\n",
            "Sample 44: Predicted : Tungro,  Actual : Tungro\n",
            "Sample 45: Predicted : Leaf blast,  Actual : Leaf blast\n",
            "Sample 46: Predicted : Neck blast,  Actual : Neck blast\n",
            "Sample 47: Predicted : Neck blast,  Actual : Neck blast\n",
            "Sample 48: Predicted : Sheath Blight,  Actual : Sheath Blight\n",
            "Sample 49: Predicted : Leaf blast,  Actual : Leaf blast\n",
            "Sample 50: Predicted : Neck blast,  Actual : Neck blast\n",
            "Sample 51: Predicted : Sheath Blight,  Actual : Sheath Blight\n",
            "Sample 52: Predicted : Leaf blast,  Actual : Leaf blast\n",
            "Sample 53: Predicted : Leaf blast,  Actual : Leaf blast\n",
            "Sample 54: Predicted : Neck blast,  Actual : Neck blast\n",
            "Sample 55: Predicted : Bacterial Blight,  Actual : Bacterial Blight\n",
            "Sample 56: Predicted : Neck blast,  Actual : Neck blast\n",
            "Sample 57: Predicted : Bacterial Blight,  Actual : Bacterial Blight\n",
            "Sample 58: Predicted : Leaf blast,  Actual : Leaf blast\n",
            "Sample 59: Predicted : Node blast,  Actual : Node blast\n",
            "Sample 60: Predicted : Neck blast,  Actual : Neck blast\n",
            "Sample 61: Predicted : Neck blast,  Actual : Neck blast\n",
            "Sample 62: Predicted : Leaf blast,  Actual : Leaf blast\n",
            "Sample 63: Predicted : Neck blast,  Actual : Neck blast\n",
            "Sample 64: Predicted : Tungro,  Actual : Tungro\n",
            "Sample 65: Predicted : Bacterial Blight,  Actual : Bacterial Blight\n",
            "Sample 66: Predicted : Tungro,  Actual : Tungro\n",
            "Sample 67: Predicted : Bakanae Pic,  Actual : Tungro\n",
            "Sample 68: Predicted : Leaf blast,  Actual : Leaf blast\n",
            "Sample 69: Predicted : Bakanae Pic,  Actual : Bakanae Pic\n",
            "Sample 70: Predicted : Neck blast,  Actual : False Smut\n",
            "Sample 71: Predicted : Tungro,  Actual : Tungro\n",
            "Sample 72: Predicted : Bacterial Blight,  Actual : Bacterial Blight\n",
            "Sample 73: Predicted : Neck blast,  Actual : Neck blast\n",
            "Sample 74: Predicted : Bacterial Blight,  Actual : Bacterial Blight\n",
            "Sample 75: Predicted : Tungro,  Actual : Tungro\n",
            "Sample 76: Predicted : Neck blast,  Actual : Neck blast\n",
            "Sample 77: Predicted : Tungro,  Actual : Tungro\n",
            "Sample 78: Predicted : Tungro,  Actual : Tungro\n",
            "Sample 79: Predicted : Tungro,  Actual : Tungro\n",
            "Sample 80: Predicted : Leaf blast,  Actual : Leaf blast\n",
            "Sample 81: Predicted : Tungro,  Actual : Tungro\n",
            "Sample 82: Predicted : Tungro,  Actual : Tungro\n",
            "Sample 83: Predicted : Tungro,  Actual : Tungro\n",
            "Sample 84: Predicted : Tungro,  Actual : Tungro\n",
            "Sample 85: Predicted : Neck blast,  Actual : Neck blast\n",
            "Sample 86: Predicted : Bacterial Blight,  Actual : Bacterial Blight\n",
            "Sample 87: Predicted : Leaf blast,  Actual : Leaf blast\n",
            "Sample 88: Predicted : Tungro,  Actual : Tungro\n",
            "Sample 89: Predicted : Bacterial Blight,  Actual : Bacterial Blight\n",
            "Sample 90: Predicted : Tungro,  Actual : Tungro\n",
            "Sample 91: Predicted : Leaf blast,  Actual : Leaf blast\n",
            "Sample 92: Predicted : Bacterial Blight,  Actual : Bacterial Blight\n",
            "Sample 93: Predicted : Leaf blast,  Actual : Leaf blast\n",
            "Sample 94: Predicted : Leaf blast,  Actual : Leaf blast\n",
            "Sample 95: Predicted : Bacterial Blight,  Actual : Bacterial Blight\n",
            "Sample 96: Predicted : False Smut,  Actual : Neck blast\n",
            "Sample 97: Predicted : Neck blast,  Actual : Neck blast\n",
            "Sample 98: Predicted : Tungro,  Actual : Tungro\n",
            "Sample 99: Predicted : Leaf blast,  Actual : Tungro\n",
            "Sample 100: Predicted : Leaf blast,  Actual : Leaf blast\n",
            "Sample 101: Predicted : False Smut,  Actual : False Smut\n",
            "Sample 102: Predicted : Neck blast,  Actual : Neck blast\n",
            "Sample 103: Predicted : Leaf blast,  Actual : Leaf blast\n",
            "Sample 104: Predicted : Bacterial Blight,  Actual : Bacterial Blight\n",
            "Sample 105: Predicted : Tungro,  Actual : Tungro\n",
            "Sample 106: Predicted : Tungro,  Actual : Tungro\n",
            "Sample 107: Predicted : Neck blast,  Actual : Neck blast\n",
            "Sample 108: Predicted : Bakanae Pic,  Actual : Bakanae Pic\n",
            "Sample 109: Predicted : Leaf blast,  Actual : Leaf blast\n",
            "Sample 110: Predicted : Leaf blast,  Actual : Leaf blast\n",
            "Sample 111: Predicted : Tungro,  Actual : Tungro\n",
            "Sample 112: Predicted : Bakanae Pic,  Actual : Bakanae Pic\n",
            "Sample 113: Predicted : Leaf blast,  Actual : Leaf blast\n",
            "Sample 114: Predicted : Leaf blast,  Actual : Leaf blast\n",
            "Sample 115: Predicted : Leaf blast,  Actual : Leaf blast\n",
            "Sample 116: Predicted : Bakanae Pic,  Actual : Bakanae Pic\n",
            "Sample 117: Predicted : Tungro,  Actual : Tungro\n",
            "Sample 118: Predicted : Bacterial Blight,  Actual : Bacterial Blight\n",
            "Sample 119: Predicted : Leaf blast,  Actual : Sheath Blight\n",
            "Sample 120: Predicted : Neck blast,  Actual : Neck blast\n",
            "Sample 121: Predicted : Neck blast,  Actual : Neck blast\n",
            "Sample 122: Predicted : Tungro,  Actual : Tungro\n",
            "Sample 123: Predicted : Leaf blast,  Actual : Leaf blast\n",
            "Sample 124: Predicted : Leaf blast,  Actual : Leaf blast\n",
            "Sample 125: Predicted : Leaf blast,  Actual : Leaf blast\n",
            "Sample 126: Predicted : Bacterial Blight,  Actual : Bacterial Blight\n",
            "Sample 127: Predicted : Leaf blast,  Actual : Leaf blast\n",
            "Sample 128: Predicted : Leaf blast,  Actual : Leaf blast\n",
            "Sample 129: Predicted : Leaf blast,  Actual : Leaf blast\n",
            "Sample 130: Predicted : Bacterial Blight,  Actual : Bacterial Blight\n",
            "Sample 131: Predicted : Leaf blast,  Actual : Leaf blast\n",
            "Sample 132: Predicted : Neck blast,  Actual : Neck blast\n",
            "Sample 133: Predicted : Tungro,  Actual : Tungro\n",
            "Sample 134: Predicted : Tungro,  Actual : Tungro\n",
            "Sample 135: Predicted : Neck blast,  Actual : Neck blast\n",
            "Sample 136: Predicted : Tungro,  Actual : Tungro\n",
            "Sample 137: Predicted : Tungro,  Actual : Tungro\n",
            "Sample 138: Predicted : Bacterial Blight,  Actual : Bacterial Blight\n",
            "Sample 139: Predicted : Neck blast,  Actual : Neck blast\n",
            "Sample 140: Predicted : Neck blast,  Actual : Bacterial Blight\n",
            "Sample 141: Predicted : Tungro,  Actual : Tungro\n",
            "Sample 142: Predicted : Tungro,  Actual : Tungro\n",
            "Sample 143: Predicted : Leaf blast,  Actual : Leaf blast\n",
            "Sample 144: Predicted : Neck blast,  Actual : Neck blast\n",
            "Sample 145: Predicted : Tungro,  Actual : Tungro\n",
            "Sample 146: Predicted : Leaf blast,  Actual : Leaf blast\n",
            "Sample 147: Predicted : Neck blast,  Actual : Neck blast\n",
            "Sample 148: Predicted : Neck blast,  Actual : Neck blast\n",
            "Sample 149: Predicted : Neck blast,  Actual : Neck blast\n",
            "Sample 150: Predicted : Bakanae Pic,  Actual : Bakanae Pic\n",
            "Sample 151: Predicted : False Smut,  Actual : False Smut\n",
            "Sample 152: Predicted : Leaf blast,  Actual : Leaf blast\n",
            "Sample 153: Predicted : Leaf blast,  Actual : Leaf blast\n",
            "Sample 154: Predicted : Tungro,  Actual : Tungro\n",
            "Sample 155: Predicted : Neck blast,  Actual : Neck blast\n",
            "Sample 156: Predicted : Tungro,  Actual : Tungro\n",
            "Sample 157: Predicted : Neck blast,  Actual : Neck blast\n",
            "Sample 158: Predicted : Sheath Blight,  Actual : Sheath Blight\n",
            "Sample 159: Predicted : Neck blast,  Actual : Neck blast\n",
            "Sample 160: Predicted : Neck blast,  Actual : Neck blast\n",
            "Sample 161: Predicted : Node blast,  Actual : Node blast\n",
            "Sample 162: Predicted : Bacterial Blight,  Actual : Bacterial Blight\n",
            "Sample 163: Predicted : Tungro,  Actual : Tungro\n",
            "Sample 164: Predicted : Bacterial Blight,  Actual : Bacterial Blight\n",
            "Sample 165: Predicted : Neck blast,  Actual : Neck blast\n",
            "Sample 166: Predicted : Tungro,  Actual : Tungro\n",
            "Sample 167: Predicted : Leaf blast,  Actual : Leaf blast\n",
            "Sample 168: Predicted : Neck blast,  Actual : Neck blast\n",
            "Sample 169: Predicted : False Smut,  Actual : False Smut\n",
            "Sample 170: Predicted : Bacterial Blight,  Actual : Bacterial Blight\n",
            "Sample 171: Predicted : False Smut,  Actual : False Smut\n",
            "Sample 172: Predicted : Leaf blast,  Actual : Leaf blast\n",
            "Sample 173: Predicted : Leaf blast,  Actual : Leaf blast\n",
            "Sample 174: Predicted : Tungro,  Actual : Tungro\n",
            "Sample 175: Predicted : Neck blast,  Actual : Neck blast\n",
            "Sample 176: Predicted : Neck blast,  Actual : Neck blast\n",
            "Sample 177: Predicted : Leaf blast,  Actual : Sheath Blight\n",
            "Sample 178: Predicted : Leaf blast,  Actual : Sheath Blight\n",
            "Sample 179: Predicted : Tungro,  Actual : Bacterial Blight\n",
            "Sample 180: Predicted : Leaf blast,  Actual : Leaf blast\n",
            "Sample 181: Predicted : Bacterial Blight,  Actual : Bacterial Blight\n",
            "Sample 182: Predicted : Tungro,  Actual : Tungro\n",
            "Sample 183: Predicted : Bacterial Blight,  Actual : Bacterial Blight\n",
            "Sample 184: Predicted : Leaf blast,  Actual : Leaf blast\n",
            "Sample 185: Predicted : Tungro,  Actual : Tungro\n",
            "Sample 186: Predicted : Neck blast,  Actual : Neck blast\n",
            "Sample 187: Predicted : Neck blast,  Actual : Neck blast\n",
            "Sample 188: Predicted : Tungro,  Actual : Tungro\n",
            "Sample 189: Predicted : Neck blast,  Actual : Neck blast\n",
            "Sample 190: Predicted : Neck blast,  Actual : Neck blast\n",
            "Sample 191: Predicted : Leaf blast,  Actual : Leaf blast\n",
            "Sample 192: Predicted : Neck blast,  Actual : Neck blast\n",
            "Sample 193: Predicted : Bakanae Pic,  Actual : Bakanae Pic\n",
            "Sample 194: Predicted : Tungro,  Actual : Tungro\n",
            "Sample 195: Predicted : Tungro,  Actual : Tungro\n",
            "Sample 196: Predicted : Tungro,  Actual : Tungro\n",
            "Sample 197: Predicted : Tungro,  Actual : Tungro\n",
            "Sample 198: Predicted : Neck blast,  Actual : Neck blast\n",
            "Sample 199: Predicted : Bacterial Blight,  Actual : Bacterial Blight\n",
            "Sample 200: Predicted : Leaf blast,  Actual : Leaf blast\n",
            "Sample 201: Predicted : Neck blast,  Actual : Neck blast\n",
            "Sample 202: Predicted : Leaf blast,  Actual : Leaf blast\n",
            "Sample 203: Predicted : Bacterial Blight,  Actual : Bacterial Blight\n",
            "Sample 204: Predicted : Neck blast,  Actual : Neck blast\n",
            "Sample 205: Predicted : Bacterial Blight,  Actual : Bacterial Blight\n",
            "Sample 206: Predicted : Leaf blast,  Actual : Leaf blast\n",
            "Sample 207: Predicted : Neck blast,  Actual : Neck blast\n",
            "Sample 208: Predicted : Leaf blast,  Actual : Leaf blast\n",
            "Sample 209: Predicted : Leaf blast,  Actual : Leaf blast\n",
            "Sample 210: Predicted : Neck blast,  Actual : Neck blast\n",
            "Sample 211: Predicted : Bacterial Blight,  Actual : Bacterial Blight\n",
            "Sample 212: Predicted : Bacterial Blight,  Actual : Bacterial Blight\n",
            "Sample 213: Predicted : Leaf blast,  Actual : Sheath Blight\n",
            "Sample 214: Predicted : Bacterial Blight,  Actual : Bacterial Blight\n",
            "Sample 215: Predicted : Leaf blast,  Actual : Leaf blast\n",
            "Sample 216: Predicted : Leaf blast,  Actual : Leaf blast\n",
            "Sample 217: Predicted : Bacterial Blight,  Actual : Bacterial Blight\n",
            "Sample 218: Predicted : Tungro,  Actual : Tungro\n",
            "Sample 219: Predicted : Bacterial Blight,  Actual : Bacterial Blight\n",
            "Sample 220: Predicted : Tungro,  Actual : Tungro\n",
            "Sample 221: Predicted : Bacterial Blight,  Actual : Bacterial Blight\n",
            "Sample 222: Predicted : Neck blast,  Actual : Neck blast\n",
            "Sample 223: Predicted : Neck blast,  Actual : Neck blast\n",
            "Sample 224: Predicted : Neck blast,  Actual : Neck blast\n",
            "Sample 225: Predicted : Leaf blast,  Actual : Leaf blast\n",
            "Sample 226: Predicted : Neck blast,  Actual : Neck blast\n",
            "Sample 227: Predicted : Leaf blast,  Actual : Leaf blast\n",
            "Sample 228: Predicted : Neck blast,  Actual : Neck blast\n",
            "Sample 229: Predicted : Neck blast,  Actual : Neck blast\n",
            "Sample 230: Predicted : Leaf blast,  Actual : Leaf blast\n",
            "Sample 231: Predicted : Neck blast,  Actual : Neck blast\n",
            "Sample 232: Predicted : Bacterial Blight,  Actual : Bacterial Blight\n",
            "Sample 233: Predicted : Neck blast,  Actual : Neck blast\n",
            "Sample 234: Predicted : Bacterial Blight,  Actual : Bacterial Blight\n",
            "Sample 235: Predicted : Neck blast,  Actual : Neck blast\n",
            "Sample 236: Predicted : Bacterial Blight,  Actual : Bacterial Blight\n",
            "Sample 237: Predicted : Sheath Blight,  Actual : Sheath Blight\n",
            "Sample 238: Predicted : Bacterial Blight,  Actual : Bacterial Blight\n",
            "Sample 239: Predicted : Neck blast,  Actual : Neck blast\n",
            "Sample 240: Predicted : Bacterial Blight,  Actual : Bacterial Blight\n",
            "Sample 241: Predicted : Neck blast,  Actual : Neck blast\n",
            "Sample 242: Predicted : Leaf blast,  Actual : Leaf blast\n",
            "Sample 243: Predicted : Tungro,  Actual : Tungro\n",
            "Sample 244: Predicted : Neck blast,  Actual : Neck blast\n",
            "Sample 245: Predicted : Bacterial Blight,  Actual : Bacterial Blight\n",
            "Sample 246: Predicted : Leaf blast,  Actual : Leaf blast\n",
            "Sample 247: Predicted : Tungro,  Actual : Tungro\n",
            "Sample 248: Predicted : Bacterial Blight,  Actual : Bacterial Blight\n",
            "Sample 249: Predicted : Neck blast,  Actual : Neck blast\n",
            "Sample 250: Predicted : Neck blast,  Actual : Neck blast\n",
            "Sample 251: Predicted : Leaf blast,  Actual : Leaf blast\n",
            "Sample 252: Predicted : Neck blast,  Actual : Neck blast\n",
            "Sample 253: Predicted : Bacterial Blight,  Actual : Bacterial Blight\n",
            "Sample 254: Predicted : Leaf blast,  Actual : Leaf blast\n",
            "Sample 255: Predicted : Tungro,  Actual : Tungro\n",
            "Sample 256: Predicted : Bacterial Blight,  Actual : Bacterial Blight\n",
            "Sample 257: Predicted : Sheath Blight,  Actual : Leaf blast\n",
            "Sample 258: Predicted : Neck blast,  Actual : Neck blast\n",
            "Sample 259: Predicted : Leaf blast,  Actual : Leaf blast\n",
            "Sample 260: Predicted : Neck blast,  Actual : Neck blast\n",
            "Sample 261: Predicted : Neck blast,  Actual : Neck blast\n",
            "Sample 262: Predicted : Neck blast,  Actual : Neck blast\n",
            "Sample 263: Predicted : Neck blast,  Actual : Neck blast\n",
            "Sample 264: Predicted : Neck blast,  Actual : Neck blast\n",
            "Sample 265: Predicted : Leaf blast,  Actual : Leaf blast\n",
            "Sample 266: Predicted : Leaf blast,  Actual : Leaf blast\n",
            "Sample 267: Predicted : Bacterial Blight,  Actual : Bacterial Blight\n",
            "Sample 268: Predicted : Tungro,  Actual : Tungro\n",
            "Sample 269: Predicted : Neck blast,  Actual : Neck blast\n",
            "Sample 270: Predicted : Leaf blast,  Actual : Leaf blast\n",
            "Sample 271: Predicted : Tungro,  Actual : Tungro\n",
            "Sample 272: Predicted : Tungro,  Actual : Tungro\n",
            "Sample 273: Predicted : Neck blast,  Actual : Neck blast\n",
            "Sample 274: Predicted : Tungro,  Actual : Tungro\n",
            "Sample 275: Predicted : Neck blast,  Actual : Neck blast\n",
            "Sample 276: Predicted : Bacterial Blight,  Actual : Bacterial Blight\n",
            "Sample 277: Predicted : Bakanae Pic,  Actual : Bakanae Pic\n",
            "Sample 278: Predicted : Bacterial Blight,  Actual : Bacterial Blight\n",
            "Sample 279: Predicted : Bacterial Blight,  Actual : Bacterial Blight\n",
            "Sample 280: Predicted : Leaf blast,  Actual : Leaf blast\n",
            "Sample 281: Predicted : Leaf blast,  Actual : Leaf blast\n",
            "Sample 282: Predicted : Neck blast,  Actual : Neck blast\n",
            "Sample 283: Predicted : Neck blast,  Actual : Neck blast\n",
            "Sample 284: Predicted : Sheath Blight,  Actual : Sheath Blight\n",
            "Sample 285: Predicted : Bacterial Blight,  Actual : Bacterial Blight\n",
            "Sample 286: Predicted : Bacterial Blight,  Actual : Bacterial Blight\n",
            "Sample 287: Predicted : Tungro,  Actual : Tungro\n",
            "Sample 288: Predicted : Neck blast,  Actual : Neck blast\n",
            "Sample 289: Predicted : Neck blast,  Actual : Neck blast\n",
            "Sample 290: Predicted : Tungro,  Actual : Tungro\n",
            "Sample 291: Predicted : Leaf blast,  Actual : Leaf blast\n",
            "Sample 292: Predicted : Tungro,  Actual : Tungro\n",
            "Sample 293: Predicted : Neck blast,  Actual : Neck blast\n",
            "Sample 294: Predicted : Bacterial Blight,  Actual : Bacterial Blight\n",
            "Sample 295: Predicted : Tungro,  Actual : Tungro\n",
            "Sample 296: Predicted : Leaf blast,  Actual : Bacterial Blight\n",
            "Sample 297: Predicted : Bacterial Blight,  Actual : Bacterial Blight\n",
            "Sample 298: Predicted : Neck blast,  Actual : Neck blast\n",
            "Sample 299: Predicted : Leaf blast,  Actual : Leaf blast\n",
            "Sample 300: Predicted : Leaf blast,  Actual : Sheath Blight\n",
            "Sample 301: Predicted : Leaf blast,  Actual : Leaf blast\n",
            "Sample 302: Predicted : Leaf blast,  Actual : Leaf blast\n",
            "Sample 303: Predicted : Leaf blast,  Actual : Leaf blast\n",
            "Sample 304: Predicted : Bakanae Pic,  Actual : Bakanae Pic\n",
            "Sample 305: Predicted : Neck blast,  Actual : Neck blast\n",
            "Sample 306: Predicted : Neck blast,  Actual : Neck blast\n",
            "Sample 307: Predicted : Leaf blast,  Actual : Leaf blast\n",
            "Sample 308: Predicted : Bakanae Pic,  Actual : Bakanae Pic\n",
            "Sample 309: Predicted : Neck blast,  Actual : Neck blast\n",
            "Sample 310: Predicted : Leaf blast,  Actual : Leaf blast\n",
            "Sample 311: Predicted : False Smut,  Actual : False Smut\n",
            "Sample 312: Predicted : Bacterial Blight,  Actual : Bacterial Blight\n",
            "Sample 313: Predicted : Tungro,  Actual : Tungro\n",
            "Sample 314: Predicted : Neck blast,  Actual : Neck blast\n",
            "Sample 315: Predicted : Bacterial Blight,  Actual : Bacterial Blight\n",
            "Sample 316: Predicted : Neck blast,  Actual : Neck blast\n",
            "Sample 317: Predicted : Neck blast,  Actual : Neck blast\n",
            "Sample 318: Predicted : Tungro,  Actual : Tungro\n",
            "Sample 319: Predicted : Neck blast,  Actual : Neck blast\n",
            "Sample 320: Predicted : Neck blast,  Actual : Sheath Blight\n",
            "Sample 321: Predicted : Neck blast,  Actual : Neck blast\n",
            "Sample 322: Predicted : Neck blast,  Actual : Neck blast\n",
            "Sample 323: Predicted : Neck blast,  Actual : Neck blast\n",
            "Sample 324: Predicted : Tungro,  Actual : Tungro\n",
            "Sample 325: Predicted : Bacterial Blight,  Actual : Bacterial Blight\n",
            "Sample 326: Predicted : False Smut,  Actual : False Smut\n",
            "Sample 327: Predicted : Bacterial Blight,  Actual : Bacterial Blight\n",
            "Sample 328: Predicted : Neck blast,  Actual : Neck blast\n",
            "Sample 329: Predicted : Neck blast,  Actual : Neck blast\n",
            "Sample 330: Predicted : Leaf blast,  Actual : Leaf blast\n",
            "Sample 331: Predicted : Neck blast,  Actual : Neck blast\n",
            "Sample 332: Predicted : Bacterial Blight,  Actual : Bacterial Blight\n",
            "Sample 333: Predicted : Neck blast,  Actual : Neck blast\n",
            "Sample 334: Predicted : Leaf blast,  Actual : Leaf blast\n",
            "Sample 335: Predicted : Neck blast,  Actual : Neck blast\n",
            "Sample 336: Predicted : Bacterial Blight,  Actual : Bacterial Blight\n",
            "Sample 337: Predicted : Leaf blast,  Actual : Leaf blast\n",
            "Sample 338: Predicted : Tungro,  Actual : Tungro\n",
            "Sample 339: Predicted : Tungro,  Actual : Tungro\n",
            "Sample 340: Predicted : Bacterial Blight,  Actual : Bacterial Blight\n",
            "Sample 341: Predicted : Neck blast,  Actual : Neck blast\n",
            "Sample 342: Predicted : Leaf blast,  Actual : Leaf blast\n",
            "Sample 343: Predicted : Neck blast,  Actual : Neck blast\n",
            "Sample 344: Predicted : Node blast,  Actual : Node blast\n",
            "Sample 345: Predicted : Neck blast,  Actual : Neck blast\n",
            "Sample 346: Predicted : Tungro,  Actual : Tungro\n",
            "Sample 347: Predicted : Tungro,  Actual : Tungro\n",
            "Sample 348: Predicted : Neck blast,  Actual : Neck blast\n",
            "Sample 349: Predicted : Bacterial Blight,  Actual : Neck blast\n",
            "Sample 350: Predicted : Bacterial Blight,  Actual : Bacterial Blight\n",
            "Sample 351: Predicted : Bacterial Blight,  Actual : Bacterial Blight\n",
            "Sample 352: Predicted : Tungro,  Actual : Tungro\n",
            "Sample 353: Predicted : Leaf blast,  Actual : Leaf blast\n",
            "Sample 354: Predicted : Neck blast,  Actual : Neck blast\n",
            "Sample 355: Predicted : Neck blast,  Actual : Neck blast\n",
            "Sample 356: Predicted : Neck blast,  Actual : Neck blast\n",
            "Sample 357: Predicted : Bacterial Blight,  Actual : Bacterial Blight\n",
            "Sample 358: Predicted : Neck blast,  Actual : Neck blast\n",
            "Sample 359: Predicted : Bacterial Blight,  Actual : Bacterial Blight\n",
            "Sample 360: Predicted : Neck blast,  Actual : Neck blast\n",
            "Sample 361: Predicted : Tungro,  Actual : Tungro\n",
            "Sample 362: Predicted : Leaf blast,  Actual : Leaf blast\n",
            "Sample 363: Predicted : Neck blast,  Actual : Neck blast\n",
            "Sample 364: Predicted : Neck blast,  Actual : Neck blast\n",
            "Sample 365: Predicted : Neck blast,  Actual : False Smut\n",
            "Sample 366: Predicted : Bacterial Blight,  Actual : Bacterial Blight\n",
            "Sample 367: Predicted : False Smut,  Actual : False Smut\n",
            "Sample 368: Predicted : Neck blast,  Actual : Neck blast\n",
            "Sample 369: Predicted : Neck blast,  Actual : Neck blast\n",
            "Sample 370: Predicted : Neck blast,  Actual : Neck blast\n",
            "Sample 371: Predicted : Bacterial Blight,  Actual : Bacterial Blight\n",
            "Sample 372: Predicted : Sheath Blight,  Actual : Sheath Blight\n",
            "Sample 373: Predicted : Neck blast,  Actual : Neck blast\n",
            "Sample 374: Predicted : Tungro,  Actual : Tungro\n",
            "Sample 375: Predicted : Leaf blast,  Actual : Leaf blast\n",
            "Sample 376: Predicted : Neck blast,  Actual : Neck blast\n",
            "Sample 377: Predicted : Neck blast,  Actual : Neck blast\n",
            "Sample 378: Predicted : Leaf blast,  Actual : Leaf blast\n",
            "Sample 379: Predicted : Bacterial Blight,  Actual : Bacterial Blight\n",
            "Sample 380: Predicted : Bacterial Blight,  Actual : Bacterial Blight\n",
            "Sample 381: Predicted : Sheath Blight,  Actual : Sheath Blight\n",
            "Sample 382: Predicted : Tungro,  Actual : Tungro\n",
            "Sample 383: Predicted : Leaf blast,  Actual : Leaf blast\n",
            "Sample 384: Predicted : Bacterial Blight,  Actual : Bacterial Blight\n",
            "Sample 385: Predicted : Neck blast,  Actual : Tungro\n",
            "Sample 386: Predicted : Tungro,  Actual : Tungro\n",
            "Sample 387: Predicted : Bacterial Blight,  Actual : Bacterial Blight\n",
            "Sample 388: Predicted : Leaf blast,  Actual : Leaf blast\n",
            "Sample 389: Predicted : Tungro,  Actual : Tungro\n",
            "Sample 390: Predicted : Neck blast,  Actual : Neck blast\n",
            "Sample 391: Predicted : Neck blast,  Actual : Neck blast\n",
            "Sample 392: Predicted : Neck blast,  Actual : Neck blast\n",
            "Sample 393: Predicted : Sheath Blight,  Actual : Sheath Blight\n",
            "Sample 394: Predicted : Bakanae Pic,  Actual : Bakanae Pic\n",
            "Sample 395: Predicted : Leaf blast,  Actual : Leaf blast\n",
            "Sample 396: Predicted : Neck blast,  Actual : Neck blast\n",
            "Sample 397: Predicted : Neck blast,  Actual : Neck blast\n",
            "Sample 398: Predicted : Sheath Blight,  Actual : Sheath Blight\n",
            "Sample 399: Predicted : Bacterial Blight,  Actual : Bacterial Blight\n",
            "Sample 400: Predicted : Leaf blast,  Actual : Leaf blast\n",
            "Sample 401: Predicted : Neck blast,  Actual : Neck blast\n",
            "Sample 402: Predicted : Tungro,  Actual : Tungro\n",
            "Sample 403: Predicted : Leaf blast,  Actual : Leaf blast\n",
            "Sample 404: Predicted : Leaf blast,  Actual : Leaf blast\n",
            "Sample 405: Predicted : Neck blast,  Actual : Bacterial Blight\n",
            "Sample 406: Predicted : Neck blast,  Actual : Neck blast\n",
            "Sample 407: Predicted : Neck blast,  Actual : Neck blast\n",
            "Sample 408: Predicted : Bacterial Blight,  Actual : Bacterial Blight\n",
            "Sample 409: Predicted : Tungro,  Actual : Bacterial Blight\n",
            "Sample 410: Predicted : Neck blast,  Actual : Neck blast\n",
            "Sample 411: Predicted : Bacterial Blight,  Actual : Bacterial Blight\n",
            "Sample 412: Predicted : Neck blast,  Actual : Neck blast\n",
            "Sample 413: Predicted : Neck blast,  Actual : False Smut\n",
            "Sample 414: Predicted : Bacterial Blight,  Actual : Bacterial Blight\n",
            "Sample 415: Predicted : Bacterial Blight,  Actual : Bacterial Blight\n",
            "Sample 416: Predicted : Bacterial Blight,  Actual : Bacterial Blight\n",
            "Sample 417: Predicted : Tungro,  Actual : Tungro\n",
            "Sample 418: Predicted : Bacterial Blight,  Actual : Sheath Blight\n",
            "Sample 419: Predicted : Sheath Blight,  Actual : Leaf blast\n",
            "Sample 420: Predicted : Leaf blast,  Actual : Leaf blast\n",
            "Sample 421: Predicted : Leaf blast,  Actual : Leaf blast\n",
            "Sample 422: Predicted : Bacterial Blight,  Actual : Bacterial Blight\n",
            "Sample 423: Predicted : Neck blast,  Actual : Neck blast\n",
            "Sample 424: Predicted : Bakanae Pic,  Actual : Bakanae Pic\n",
            "Sample 425: Predicted : Neck blast,  Actual : Neck blast\n",
            "Sample 426: Predicted : Neck blast,  Actual : Neck blast\n",
            "Sample 427: Predicted : Neck blast,  Actual : Neck blast\n",
            "Sample 428: Predicted : Tungro,  Actual : Tungro\n",
            "Sample 429: Predicted : Tungro,  Actual : Tungro\n",
            "Sample 430: Predicted : Bacterial Blight,  Actual : Bacterial Blight\n",
            "Sample 431: Predicted : Leaf blast,  Actual : Leaf blast\n",
            "Sample 432: Predicted : Neck blast,  Actual : Neck blast\n",
            "Sample 433: Predicted : Neck blast,  Actual : Neck blast\n",
            "Sample 434: Predicted : Tungro,  Actual : Tungro\n",
            "Sample 435: Predicted : Neck blast,  Actual : Neck blast\n",
            "Sample 436: Predicted : Leaf blast,  Actual : Leaf blast\n",
            "Sample 437: Predicted : Tungro,  Actual : Tungro\n",
            "Sample 438: Predicted : Neck blast,  Actual : Neck blast\n",
            "Sample 439: Predicted : False Smut,  Actual : False Smut\n",
            "Sample 440: Predicted : Tungro,  Actual : Tungro\n",
            "Sample 441: Predicted : Node blast,  Actual : Node blast\n",
            "Sample 442: Predicted : Neck blast,  Actual : Neck blast\n",
            "Sample 443: Predicted : Bacterial Blight,  Actual : Bacterial Blight\n",
            "Sample 444: Predicted : Neck blast,  Actual : Neck blast\n",
            "Sample 445: Predicted : Bacterial Blight,  Actual : Bacterial Blight\n",
            "Sample 446: Predicted : Neck blast,  Actual : Neck blast\n",
            "Sample 447: Predicted : Neck blast,  Actual : Neck blast\n",
            "Sample 448: Predicted : Leaf blast,  Actual : Leaf blast\n",
            "Sample 449: Predicted : Leaf blast,  Actual : Leaf blast\n",
            "Sample 450: Predicted : Neck blast,  Actual : Neck blast\n",
            "Sample 451: Predicted : Neck blast,  Actual : Neck blast\n",
            "Sample 452: Predicted : Leaf blast,  Actual : Leaf blast\n",
            "Sample 453: Predicted : Neck blast,  Actual : False Smut\n",
            "Sample 454: Predicted : Bacterial Blight,  Actual : Bacterial Blight\n",
            "Sample 455: Predicted : Leaf blast,  Actual : Leaf blast\n",
            "Sample 456: Predicted : Bacterial Blight,  Actual : Bacterial Blight\n",
            "Sample 457: Predicted : Tungro,  Actual : Tungro\n",
            "Sample 458: Predicted : Neck blast,  Actual : Neck blast\n",
            "Sample 459: Predicted : Bacterial Blight,  Actual : Bacterial Blight\n",
            "Sample 460: Predicted : Neck blast,  Actual : Neck blast\n",
            "Sample 461: Predicted : Neck blast,  Actual : Neck blast\n",
            "Sample 462: Predicted : Tungro,  Actual : Tungro\n",
            "Sample 463: Predicted : Tungro,  Actual : Tungro\n",
            "Sample 464: Predicted : Leaf blast,  Actual : Leaf blast\n",
            "Sample 465: Predicted : Leaf blast,  Actual : Leaf blast\n",
            "Sample 466: Predicted : Tungro,  Actual : Tungro\n",
            "Sample 467: Predicted : Leaf blast,  Actual : Leaf blast\n",
            "Sample 468: Predicted : Bakanae Pic,  Actual : Bakanae Pic\n",
            "Sample 469: Predicted : Node blast,  Actual : Node blast\n",
            "Sample 470: Predicted : Bacterial Blight,  Actual : Bacterial Blight\n",
            "Sample 471: Predicted : Neck blast,  Actual : Neck blast\n",
            "Sample 472: Predicted : Bacterial Blight,  Actual : Bacterial Blight\n",
            "Sample 473: Predicted : Neck blast,  Actual : Neck blast\n",
            "Sample 474: Predicted : Tungro,  Actual : Tungro\n",
            "Sample 475: Predicted : Neck blast,  Actual : Neck blast\n",
            "Sample 476: Predicted : Bacterial Blight,  Actual : Bacterial Blight\n",
            "Sample 477: Predicted : Neck blast,  Actual : Neck blast\n",
            "Sample 478: Predicted : Tungro,  Actual : Tungro\n",
            "Sample 479: Predicted : Leaf blast,  Actual : Leaf blast\n",
            "Sample 480: Predicted : Neck blast,  Actual : Neck blast\n"
          ]
        }
      ]
    },
    {
      "cell_type": "code",
      "source": [
        "!pip install scikit-learn numpy\n"
      ],
      "metadata": {
        "colab": {
          "base_uri": "https://localhost:8080/"
        },
        "id": "mCnPYgS2oOAM",
        "outputId": "300d699c-6e7e-4d37-8061-8ba2da3c995e"
      },
      "execution_count": 27,
      "outputs": [
        {
          "output_type": "stream",
          "name": "stdout",
          "text": [
            "Requirement already satisfied: scikit-learn in /usr/local/lib/python3.10/dist-packages (1.2.2)\n",
            "Requirement already satisfied: numpy in /usr/local/lib/python3.10/dist-packages (1.23.5)\n",
            "Requirement already satisfied: scipy>=1.3.2 in /usr/local/lib/python3.10/dist-packages (from scikit-learn) (1.10.1)\n",
            "Requirement already satisfied: joblib>=1.1.1 in /usr/local/lib/python3.10/dist-packages (from scikit-learn) (1.3.2)\n",
            "Requirement already satisfied: threadpoolctl>=2.0.0 in /usr/local/lib/python3.10/dist-packages (from scikit-learn) (3.2.0)\n"
          ]
        }
      ]
    },
    {
      "cell_type": "code",
      "source": [
        "from sklearn.metrics import precision_score, recall_score, f1_score\n",
        "import numpy as np\n",
        "# Calculate precision, recall, and F1 score\n",
        "precision = precision_score(actual_labels, predicted_labels, average='weighted')\n",
        "recall = recall_score(actual_labels, predicted_labels, average='weighted')\n",
        "f1 = f1_score(actual_labels, predicted_labels, average='weighted')\n",
        "\n",
        "print(f\"Precision: {precision:.4f}\")\n",
        "print(f\"Recall: {recall:.4f}\")\n",
        "print(f\"F1 Score: {f1:.4f}\")"
      ],
      "metadata": {
        "colab": {
          "base_uri": "https://localhost:8080/"
        },
        "id": "AmSgfa4tps5K",
        "outputId": "3c4a5254-39b5-4f8d-ca7d-ffa2f4c474bd"
      },
      "execution_count": 28,
      "outputs": [
        {
          "output_type": "stream",
          "name": "stdout",
          "text": [
            "Precision: 0.9362\n",
            "Recall: 0.9375\n",
            "F1 Score: 0.9358\n"
          ]
        }
      ]
    },
    {
      "cell_type": "code",
      "source": [
        "# Plot accuracy graphs\n",
        "plt.figure(figsize=(12, 6))\n",
        "\n",
        "# Plot Testing Accuracy\n",
        "plt.subplot(1, 2, 1)\n",
        "plt.plot([num_epochs], test_accuracies, marker='o', markersize=8, color='orange', label='Testing Accuracy')\n",
        "plt.xlabel('Epoch')\n",
        "plt.ylabel('Accuracy')\n",
        "plt.title('Testing Accuracy over Epochs')\n",
        "plt.legend()\n",
        "\n",
        "# Plot Precision, Recall, and F1-score\n",
        "metrics = ['Precision', 'Recall', 'F1-score']\n",
        "values = [precision, recall, f1]\n",
        "\n",
        "plt.subplot(1, 2, 2)\n",
        "plt.bar(metrics, values, color=['blue', 'green', 'red'])\n",
        "plt.ylabel('Score')\n",
        "plt.title('Precision, Recall, and F1-score')\n",
        "\n",
        "\n",
        "plt.tight_layout()\n",
        "plt.show()"
      ],
      "metadata": {
        "colab": {
          "base_uri": "https://localhost:8080/",
          "height": 607
        },
        "id": "Ky215uuDqEEZ",
        "outputId": "94e80fc3-46c4-4962-fd2c-b91c0b862bb8"
      },
      "execution_count": 31,
      "outputs": [
        {
          "output_type": "display_data",
          "data": {
            "text/plain": [
              "<Figure size 1200x600 with 2 Axes>"
            ],
            "image/png": "[encoded data removed]"
          },
          "metadata": {}
        }
      ]
    },
    {
      "cell_type": "code",
      "source": [
        "# Plot Training Loss\n",
        "plt.subplot(1, 2, 2)\n",
        "plt.plot(range(1, num_epochs+1), train_losses, label='Training Loss')\n",
        "plt.xlabel('Epoch')\n",
        "plt.ylabel('Loss')\n",
        "plt.title('Training Loss over Epochs')\n",
        "plt.legend()\n",
        "\n",
        "plt.tight_layout()\n",
        "plt.show()"
      ],
      "metadata": {
        "colab": {
          "base_uri": "https://localhost:8080/",
          "height": 487
        },
        "id": "1TvklYQbqpER",
        "outputId": "71ecdd93-a7db-4631-8572-111145907fb9"
      },
      "execution_count": 32,
      "outputs": [
        {
          "output_type": "display_data",
          "data": {
            "text/plain": [
              "<Figure size 640x480 with 1 Axes>"
            ],
            "image/png": "[encoded data removed]"
          },
          "metadata": {}
        }
      ]
    }
  ],
  "metadata": {
    "accelerator": "GPU",
    "colab": {
      "provenance": [],
      "gpuType": "T4",
      "authorship_tag": "ABX9TyNrL8fBrs1OIV+ufxrT8Vk/",
      "include_colab_link": true
    },
    "kernelspec": {
      "display_name": "Python 3",
      "name": "python3"
    },
    "language_info": {
      "name": "python"
    }
  },
  "nbformat": 4,
  "nbformat_minor": 0
}