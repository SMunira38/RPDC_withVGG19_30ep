{
  "nbformat": 4,
  "nbformat_minor": 0,
  "metadata": {
    "colab": {
      "provenance": [],
      "gpuType": "T4",
      "authorship_tag": "ABX9TyOXFtqJW23jZm+o9lwRlTDD",
      "include_colab_link": true
    },
    "kernelspec": {
      "name": "python3",
      "display_name": "Python 3"
    },
    "language_info": {
      "name": "python"
    },
    "accelerator": "GPU"
  },
  "cells": [
    {
      "cell_type": "markdown",
      "metadata": {
        "id": "view-in-github",
        "colab_type": "text"
      },
      "source": [
        "<a href=\"https://colab.research.google.com/github/SMunira38/RPDC_withVGG19_30ep/blob/main/RPDC_with_VGG19_M5Dataset(70_15_15).ipynb\" target=\"_parent\"><img src=\"https://colab.research.google.com/assets/colab-badge.svg\" alt=\"Open In Colab\"/></a>"
      ]
    },
    {
      "cell_type": "code",
      "execution_count": 2,
      "metadata": {
        "colab": {
          "base_uri": "https://localhost:8080/"
        },
        "id": "bvl36XgYCWPm",
        "outputId": "d06ad09d-9b82-4e7c-b7af-bbbc736be5e2"
      },
      "outputs": [
        {
          "output_type": "stream",
          "name": "stdout",
          "text": [
            "Mounted at /content/drive\n"
          ]
        }
      ],
      "source": [
        "from google.colab import drive\n",
        "drive.mount('/content/drive')"
      ]
    },
    {
      "cell_type": "code",
      "source": [
        "import os\n",
        "import torch\n",
        "import torch.nn as nn\n",
        "import torchvision\n",
        "import torchvision.transforms as transforms\n",
        "import torch.optim as optim\n",
        "from torchvision.models import vgg19\n",
        "import matplotlib.pyplot as plt\n",
        "from sklearn.metrics import precision_score, recall_score, f1_score\n",
        "import numpy as np"
      ],
      "metadata": {
        "id": "dd631v6rDM70"
      },
      "execution_count": 3,
      "outputs": []
    },
    {
      "cell_type": "code",
      "source": [
        "!pip install scikit-learn numpy"
      ],
      "metadata": {
        "colab": {
          "base_uri": "https://localhost:8080/"
        },
        "id": "Jw4F6QLjDSni",
        "outputId": "3b9fcf2d-b14a-47db-a1b7-6d5377f824e8"
      },
      "execution_count": 4,
      "outputs": [
        {
          "output_type": "stream",
          "name": "stdout",
          "text": [
            "Requirement already satisfied: scikit-learn in /usr/local/lib/python3.10/dist-packages (1.2.2)\n",
            "Requirement already satisfied: numpy in /usr/local/lib/python3.10/dist-packages (1.23.5)\n",
            "Requirement already satisfied: scipy>=1.3.2 in /usr/local/lib/python3.10/dist-packages (from scikit-learn) (1.10.1)\n",
            "Requirement already satisfied: joblib>=1.1.1 in /usr/local/lib/python3.10/dist-packages (from scikit-learn) (1.3.2)\n",
            "Requirement already satisfied: threadpoolctl>=2.0.0 in /usr/local/lib/python3.10/dist-packages (from scikit-learn) (3.2.0)\n"
          ]
        }
      ]
    },
    {
      "cell_type": "code",
      "source": [
        "# Set random seed for reproducibility\n",
        "torch.manual_seed(42)"
      ],
      "metadata": {
        "colab": {
          "base_uri": "https://localhost:8080/"
        },
        "id": "WUbPyAqDDYv1",
        "outputId": "19a065cb-f41f-4dab-b16a-6b0e186ecf2b"
      },
      "execution_count": 5,
      "outputs": [
        {
          "output_type": "execute_result",
          "data": {
            "text/plain": [
              "<torch._C.Generator at 0x798bac105290>"
            ]
          },
          "metadata": {},
          "execution_count": 5
        }
      ]
    },
    {
      "cell_type": "code",
      "source": [
        "# Define paths for the dataset\n",
        "data_dir = '/content/drive/MyDrive/Full Custom Data BRRI'\n",
        "batch_size = 32"
      ],
      "metadata": {
        "id": "HXCX31s9DcIc"
      },
      "execution_count": 6,
      "outputs": []
    },
    {
      "cell_type": "code",
      "source": [
        "# Define data transformations\n",
        "transform = transforms.Compose([\n",
        "    transforms.Resize((224, 224)),\n",
        "    transforms.ToTensor(),\n",
        "    transforms.Normalize(mean=[0.485, 0.456, 0.406], std=[0.229, 0.224, 0.225])\n",
        "])"
      ],
      "metadata": {
        "id": "dUsL0ElbDf24"
      },
      "execution_count": 7,
      "outputs": []
    },
    {
      "cell_type": "code",
      "source": [
        "# Load the entire dataset from Google Drive\n",
        "dataset = torchvision.datasets.ImageFolder(root=data_dir, transform=transform)"
      ],
      "metadata": {
        "id": "ne9I0gqpDlHl"
      },
      "execution_count": 8,
      "outputs": []
    },
    {
      "cell_type": "code",
      "source": [
        "train_size = int(0.7 * len(dataset))\n",
        "val_size = int(0.15 * len(dataset))\n",
        "test_size = len(dataset) - train_size - val_size\n",
        "print(\"Total images:\", len(dataset))\n",
        "print(\"Train images:\", train_size)\n",
        "print(\"Validation images:\", val_size)\n",
        "print(\"Test images:\", test_size)\n",
        "\n",
        "train_dataset, val_dataset, test_dataset = torch.utils.data.random_split(dataset, [train_size, val_size, test_size])\n",
        "\n"
      ],
      "metadata": {
        "colab": {
          "base_uri": "https://localhost:8080/"
        },
        "id": "KpH00QHYDsR6",
        "outputId": "def282e0-2d78-4dde-8b08-651964488045"
      },
      "execution_count": 9,
      "outputs": [
        {
          "output_type": "stream",
          "name": "stdout",
          "text": [
            "Total images: 1600\n",
            "Train images: 1120\n",
            "Validation images: 240\n",
            "Test images: 240\n"
          ]
        }
      ]
    },
    {
      "cell_type": "code",
      "source": [
        "# Create data loaders\n",
        "from torch.utils.data import DataLoader\n",
        "\n",
        "train_loader = DataLoader(train_dataset, batch_size=batch_size, shuffle=True)\n",
        "val_loader = DataLoader(val_dataset, batch_size=batch_size, shuffle=False)\n",
        "test_loader = DataLoader(test_dataset, batch_size=batch_size, shuffle=False)"
      ],
      "metadata": {
        "id": "_CQR3_BqD0Zb"
      },
      "execution_count": 10,
      "outputs": []
    },
    {
      "cell_type": "code",
      "source": [
        "num_classes = len(dataset.classes)\n",
        "print(\"Number of classes: \", num_classes)"
      ],
      "metadata": {
        "colab": {
          "base_uri": "https://localhost:8080/"
        },
        "id": "i7cwB_CbEASz",
        "outputId": "e0a36b04-a46f-433f-8f0d-e7428ba76b46"
      },
      "execution_count": 11,
      "outputs": [
        {
          "output_type": "stream",
          "name": "stdout",
          "text": [
            "Number of classes:  8\n"
          ]
        }
      ]
    },
    {
      "cell_type": "code",
      "source": [
        "# Load the pre-trained VGG19 model and modify it for your classification task\n",
        "\n",
        "model = vgg19(pretrained=True)\n",
        "model.classifier[6] = nn.Linear(4096, num_classes)\n",
        "device = torch.device(\"cuda\" if torch.cuda.is_available() else \"cpu\")\n",
        "model.to(device)"
      ],
      "metadata": {
        "colab": {
          "base_uri": "https://localhost:8080/"
        },
        "id": "A5UF2Vw8ED8t",
        "outputId": "4146a93c-df31-4cbd-f544-697b5740ed42"
      },
      "execution_count": 12,
      "outputs": [
        {
          "output_type": "stream",
          "name": "stderr",
          "text": [
            "/usr/local/lib/python3.10/dist-packages/torchvision/models/_utils.py:208: UserWarning: The parameter 'pretrained' is deprecated since 0.13 and may be removed in the future, please use 'weights' instead.\n",
            "  warnings.warn(\n",
            "/usr/local/lib/python3.10/dist-packages/torchvision/models/_utils.py:223: UserWarning: Arguments other than a weight enum or `None` for 'weights' are deprecated since 0.13 and may be removed in the future. The current behavior is equivalent to passing `weights=VGG19_Weights.IMAGENET1K_V1`. You can also use `weights=VGG19_Weights.DEFAULT` to get the most up-to-date weights.\n",
            "  warnings.warn(msg)\n",
            "Downloading: \"https://download.pytorch.org/models/vgg19-dcbb9e9d.pth\" to /root/.cache/torch/hub/checkpoints/vgg19-dcbb9e9d.pth\n",
            "100%|██████████| 548M/548M [00:03<00:00, 163MB/s]\n"
          ]
        },
        {
          "output_type": "execute_result",
          "data": {
            "text/plain": [
              "VGG(\n",
              "  (features): Sequential(\n",
              "    (0): Conv2d(3, 64, kernel_size=(3, 3), stride=(1, 1), padding=(1, 1))\n",
              "    (1): ReLU(inplace=True)\n",
              "    (2): Conv2d(64, 64, kernel_size=(3, 3), stride=(1, 1), padding=(1, 1))\n",
              "    (3): ReLU(inplace=True)\n",
              "    (4): MaxPool2d(kernel_size=2, stride=2, padding=0, dilation=1, ceil_mode=False)\n",
              "    (5): Conv2d(64, 128, kernel_size=(3, 3), stride=(1, 1), padding=(1, 1))\n",
              "    (6): ReLU(inplace=True)\n",
              "    (7): Conv2d(128, 128, kernel_size=(3, 3), stride=(1, 1), padding=(1, 1))\n",
              "    (8): ReLU(inplace=True)\n",
              "    (9): MaxPool2d(kernel_size=2, stride=2, padding=0, dilation=1, ceil_mode=False)\n",
              "    (10): Conv2d(128, 256, kernel_size=(3, 3), stride=(1, 1), padding=(1, 1))\n",
              "    (11): ReLU(inplace=True)\n",
              "    (12): Conv2d(256, 256, kernel_size=(3, 3), stride=(1, 1), padding=(1, 1))\n",
              "    (13): ReLU(inplace=True)\n",
              "    (14): Conv2d(256, 256, kernel_size=(3, 3), stride=(1, 1), padding=(1, 1))\n",
              "    (15): ReLU(inplace=True)\n",
              "    (16): Conv2d(256, 256, kernel_size=(3, 3), stride=(1, 1), padding=(1, 1))\n",
              "    (17): ReLU(inplace=True)\n",
              "    (18): MaxPool2d(kernel_size=2, stride=2, padding=0, dilation=1, ceil_mode=False)\n",
              "    (19): Conv2d(256, 512, kernel_size=(3, 3), stride=(1, 1), padding=(1, 1))\n",
              "    (20): ReLU(inplace=True)\n",
              "    (21): Conv2d(512, 512, kernel_size=(3, 3), stride=(1, 1), padding=(1, 1))\n",
              "    (22): ReLU(inplace=True)\n",
              "    (23): Conv2d(512, 512, kernel_size=(3, 3), stride=(1, 1), padding=(1, 1))\n",
              "    (24): ReLU(inplace=True)\n",
              "    (25): Conv2d(512, 512, kernel_size=(3, 3), stride=(1, 1), padding=(1, 1))\n",
              "    (26): ReLU(inplace=True)\n",
              "    (27): MaxPool2d(kernel_size=2, stride=2, padding=0, dilation=1, ceil_mode=False)\n",
              "    (28): Conv2d(512, 512, kernel_size=(3, 3), stride=(1, 1), padding=(1, 1))\n",
              "    (29): ReLU(inplace=True)\n",
              "    (30): Conv2d(512, 512, kernel_size=(3, 3), stride=(1, 1), padding=(1, 1))\n",
              "    (31): ReLU(inplace=True)\n",
              "    (32): Conv2d(512, 512, kernel_size=(3, 3), stride=(1, 1), padding=(1, 1))\n",
              "    (33): ReLU(inplace=True)\n",
              "    (34): Conv2d(512, 512, kernel_size=(3, 3), stride=(1, 1), padding=(1, 1))\n",
              "    (35): ReLU(inplace=True)\n",
              "    (36): MaxPool2d(kernel_size=2, stride=2, padding=0, dilation=1, ceil_mode=False)\n",
              "  )\n",
              "  (avgpool): AdaptiveAvgPool2d(output_size=(7, 7))\n",
              "  (classifier): Sequential(\n",
              "    (0): Linear(in_features=25088, out_features=4096, bias=True)\n",
              "    (1): ReLU(inplace=True)\n",
              "    (2): Dropout(p=0.5, inplace=False)\n",
              "    (3): Linear(in_features=4096, out_features=4096, bias=True)\n",
              "    (4): ReLU(inplace=True)\n",
              "    (5): Dropout(p=0.5, inplace=False)\n",
              "    (6): Linear(in_features=4096, out_features=8, bias=True)\n",
              "  )\n",
              ")"
            ]
          },
          "metadata": {},
          "execution_count": 12
        }
      ]
    },
    {
      "cell_type": "code",
      "source": [
        "# Define loss function and optimizer\n",
        "criterion = nn.CrossEntropyLoss()\n",
        "optimizer = optim.SGD(model.parameters(), lr=0.001, momentum=0.9)"
      ],
      "metadata": {
        "id": "YlHpKCUVEP3A"
      },
      "execution_count": 13,
      "outputs": []
    },
    {
      "cell_type": "code",
      "source": [
        "# Train the model\n",
        "# Training loop\n",
        "num_epochs = 30\n",
        "train_losses = []\n",
        "train_accuracies = []\n",
        "val_losses = []\n",
        "val_accuracies = []\n",
        "\n",
        "for epoch in range(num_epochs):\n",
        "    model.train()\n",
        "    running_loss = 0.0\n",
        "    correct_predictions_train = 0\n",
        "    total_samples_train = 0\n",
        "\n",
        "    for images, labels in train_loader:\n",
        "        images = images.to(device)\n",
        "        labels = labels.to(device)\n",
        "\n",
        "        optimizer.zero_grad()\n",
        "        outputs = model(images)\n",
        "        loss = criterion(outputs, labels)\n",
        "        loss.backward()\n",
        "        optimizer.step()\n",
        "\n",
        "        running_loss += loss.item()\n",
        "\n",
        "        _, predicted = torch.max(outputs.data, 1)\n",
        "        total_samples_train += labels.size(0)\n",
        "        correct_predictions_train += (predicted == labels).sum().item()\n",
        "\n",
        "    train_losses.append(running_loss / len(train_loader))\n",
        "    train_accuracy = correct_predictions_train / total_samples_train\n",
        "    train_accuracies.append(train_accuracy)\n",
        "\n",
        "    # Validation loop\n",
        "    model.eval()\n",
        "    running_val_loss = 0.0\n",
        "    correct_predictions_val = 0\n",
        "    total_samples_val = 0\n",
        "\n",
        "    with torch.no_grad():\n",
        "        for images, labels in val_loader:\n",
        "            images = images.to(device)\n",
        "            labels = labels.to(device)\n",
        "\n",
        "            outputs = model(images)\n",
        "            loss = criterion(outputs, labels)\n",
        "            running_val_loss += loss.item()\n",
        "\n",
        "            _, predicted = torch.max(outputs.data, 1)\n",
        "            total_samples_val += labels.size(0)\n",
        "            correct_predictions_val += (predicted == labels).sum().item()\n",
        "\n",
        "    val_losses.append(running_val_loss / len(val_loader))\n",
        "    val_accuracy = correct_predictions_val / total_samples_val\n",
        "    val_accuracies.append(val_accuracy)\n",
        "\n",
        "    print(f\"Epoch [{epoch+1}/{num_epochs}] - Train Loss: {train_losses[-1]:.6f} - Train Acc: {train_accuracy*100:.2f}% - Val Loss: {val_losses[-1]:.6f} - Val Acc: {val_accuracy*100:.2f}%\")\n",
        "\n",
        "print(\"Finished Training\")"
      ],
      "metadata": {
        "colab": {
          "base_uri": "https://localhost:8080/"
        },
        "id": "xgheMn3RERcM",
        "outputId": "6f758da4-77fe-4744-9b6d-1cf7e45ce7dd"
      },
      "execution_count": 14,
      "outputs": [
        {
          "output_type": "stream",
          "name": "stdout",
          "text": [
            "Epoch [1/30] - Train Loss: 1.119608 - Train Acc: 62.59% - Val Loss: 0.800163 - Val Acc: 72.92%\n",
            "Epoch [2/30] - Train Loss: 0.508215 - Train Acc: 83.57% - Val Loss: 0.498709 - Val Acc: 85.00%\n",
            "Epoch [3/30] - Train Loss: 0.345475 - Train Acc: 89.20% - Val Loss: 0.328649 - Val Acc: 92.08%\n",
            "Epoch [4/30] - Train Loss: 0.187656 - Train Acc: 94.73% - Val Loss: 0.314296 - Val Acc: 90.00%\n",
            "Epoch [5/30] - Train Loss: 0.086457 - Train Acc: 96.70% - Val Loss: 0.296370 - Val Acc: 93.33%\n",
            "Epoch [6/30] - Train Loss: 0.057205 - Train Acc: 98.21% - Val Loss: 0.195079 - Val Acc: 93.75%\n",
            "Epoch [7/30] - Train Loss: 0.083312 - Train Acc: 96.88% - Val Loss: 0.339388 - Val Acc: 88.75%\n",
            "Epoch [8/30] - Train Loss: 0.050510 - Train Acc: 98.21% - Val Loss: 0.231058 - Val Acc: 94.58%\n",
            "Epoch [9/30] - Train Loss: 0.008945 - Train Acc: 99.91% - Val Loss: 0.215227 - Val Acc: 93.75%\n",
            "Epoch [10/30] - Train Loss: 0.003616 - Train Acc: 100.00% - Val Loss: 0.253729 - Val Acc: 94.58%\n",
            "Epoch [11/30] - Train Loss: 0.020880 - Train Acc: 99.46% - Val Loss: 0.368277 - Val Acc: 91.67%\n",
            "Epoch [12/30] - Train Loss: 0.026101 - Train Acc: 99.11% - Val Loss: 0.298869 - Val Acc: 93.75%\n",
            "Epoch [13/30] - Train Loss: 0.004269 - Train Acc: 100.00% - Val Loss: 0.297781 - Val Acc: 94.17%\n",
            "Epoch [14/30] - Train Loss: 0.009403 - Train Acc: 99.64% - Val Loss: 0.447277 - Val Acc: 90.83%\n",
            "Epoch [15/30] - Train Loss: 0.023658 - Train Acc: 99.29% - Val Loss: 0.284013 - Val Acc: 94.58%\n",
            "Epoch [16/30] - Train Loss: 0.002094 - Train Acc: 100.00% - Val Loss: 0.218631 - Val Acc: 95.42%\n",
            "Epoch [17/30] - Train Loss: 0.001596 - Train Acc: 99.91% - Val Loss: 0.250869 - Val Acc: 94.58%\n",
            "Epoch [18/30] - Train Loss: 0.004681 - Train Acc: 99.91% - Val Loss: 0.400666 - Val Acc: 92.92%\n",
            "Epoch [19/30] - Train Loss: 0.004787 - Train Acc: 99.82% - Val Loss: 0.399078 - Val Acc: 93.75%\n",
            "Epoch [20/30] - Train Loss: 0.022711 - Train Acc: 99.20% - Val Loss: 0.265115 - Val Acc: 95.42%\n",
            "Epoch [21/30] - Train Loss: 0.017395 - Train Acc: 99.55% - Val Loss: 0.315358 - Val Acc: 92.08%\n",
            "Epoch [22/30] - Train Loss: 0.022769 - Train Acc: 99.38% - Val Loss: 0.385210 - Val Acc: 92.92%\n",
            "Epoch [23/30] - Train Loss: 0.008546 - Train Acc: 99.73% - Val Loss: 0.335556 - Val Acc: 94.58%\n",
            "Epoch [24/30] - Train Loss: 0.008362 - Train Acc: 99.82% - Val Loss: 0.357202 - Val Acc: 94.58%\n",
            "Epoch [25/30] - Train Loss: 0.018087 - Train Acc: 99.38% - Val Loss: 0.412445 - Val Acc: 91.67%\n",
            "Epoch [26/30] - Train Loss: 0.025087 - Train Acc: 99.38% - Val Loss: 0.269624 - Val Acc: 91.67%\n",
            "Epoch [27/30] - Train Loss: 0.020286 - Train Acc: 99.20% - Val Loss: 0.257810 - Val Acc: 93.33%\n",
            "Epoch [28/30] - Train Loss: 0.002982 - Train Acc: 100.00% - Val Loss: 0.192562 - Val Acc: 96.67%\n",
            "Epoch [29/30] - Train Loss: 0.000752 - Train Acc: 100.00% - Val Loss: 0.201067 - Val Acc: 96.67%\n",
            "Epoch [30/30] - Train Loss: 0.000556 - Train Acc: 100.00% - Val Loss: 0.209056 - Val Acc: 95.00%\n",
            "Finished Training\n"
          ]
        }
      ]
    },
    {
      "cell_type": "code",
      "source": [
        "# Testing loop\n",
        "test_accuracies = []\n",
        "\n",
        "model.eval()\n",
        "correct_predictions_test = 0\n",
        "total_samples_test = 0\n",
        "\n",
        "class_correct = [0] * len(train_dataset.dataset.classes)  # Use train_dataset.dataset.classes\n",
        "class_total = [0] * len(train_dataset.dataset.classes)    # Use train_dataset.dataset.classes\n",
        "\n",
        "predicted_labels = []\n",
        "actual_labels = []\n",
        "\n",
        "with torch.no_grad():\n",
        "    for images, labels in test_loader:\n",
        "        images = images.to(device)\n",
        "        labels = labels.to(device)\n",
        "\n",
        "        outputs = model(images)\n",
        "        _, predicted = torch.max(outputs.data, 1)\n",
        "\n",
        "        total_samples_test += labels.size(0)\n",
        "        correct_predictions_test += (predicted == labels).sum().item()\n",
        "\n",
        "        # Store predicted and actual labels\n",
        "        predicted_labels.extend(predicted.tolist())\n",
        "        actual_labels.extend(labels.tolist())\n",
        "\n",
        "        # Calculate correct predictions for each class\n",
        "        for i in range(len(labels)):\n",
        "            label = labels[i]\n",
        "            class_correct[label] += (predicted[i] == label).item()\n",
        "            class_total[label] += 1\n",
        "\n",
        "    test_accuracy = correct_predictions_test / total_samples_test\n",
        "    test_accuracies.append(test_accuracy)\n",
        "    print(f\"Testing Accuracy: {test_accuracy*100:.2f}%\")\n",
        "\n",
        "print(f\"Total Correct Predictions on Test Set: {correct_predictions_test} out of {total_samples_test} samples\")\n",
        "\n"
      ],
      "metadata": {
        "colab": {
          "base_uri": "https://localhost:8080/"
        },
        "id": "BOptJ7rgve3v",
        "outputId": "5f2e5228-82f2-4b9c-d94c-97e43bf8bff8"
      },
      "execution_count": 15,
      "outputs": [
        {
          "output_type": "stream",
          "name": "stdout",
          "text": [
            "Testing Accuracy: 94.58%\n",
            "Total Correct Predictions on Test Set: 227 out of 240 samples\n"
          ]
        }
      ]
    },
    {
      "cell_type": "code",
      "source": [
        "!pip install tabulate"
      ],
      "metadata": {
        "colab": {
          "base_uri": "https://localhost:8080/"
        },
        "id": "eYkhbim33-iX",
        "outputId": "32b734c4-6cde-4c2d-bda6-58417e155b53"
      },
      "execution_count": 17,
      "outputs": [
        {
          "output_type": "stream",
          "name": "stdout",
          "text": [
            "Requirement already satisfied: tabulate in /usr/local/lib/python3.10/dist-packages (0.9.0)\n"
          ]
        }
      ]
    },
    {
      "cell_type": "code",
      "source": [
        "from tabulate import tabulate\n",
        "# Print predicted and actual labels in a table\n",
        "table_data = []\n",
        "for i in range(len(predicted_labels)):\n",
        "    table_data.append([i + 1, test_dataset.dataset.classes[predicted_labels[i]], test_dataset.dataset.classes[actual_labels[i]]])\n",
        "\n",
        "table_headers = [\"Sample\", \"Predicted Label\", \"Actual Label\"]\n",
        "print(tabulate(table_data, headers=table_headers, tablefmt=\"grid\"))"
      ],
      "metadata": {
        "colab": {
          "base_uri": "https://localhost:8080/"
        },
        "id": "KFqcGvVV4etk",
        "outputId": "f3226806-3875-4ee7-f4ce-39b8bffc1104"
      },
      "execution_count": 20,
      "outputs": [
        {
          "output_type": "stream",
          "name": "stdout",
          "text": [
            "+----------+-------------------+------------------+\n",
            "|   Sample | Predicted Label   | Actual Label     |\n",
            "+==========+===================+==================+\n",
            "|        1 | Neck blast        | Neck blast       |\n",
            "+----------+-------------------+------------------+\n",
            "|        2 | Leaf blast        | Leaf blast       |\n",
            "+----------+-------------------+------------------+\n",
            "|        3 | Bacterial Blight  | Bacterial Blight |\n",
            "+----------+-------------------+------------------+\n",
            "|        4 | Tungro            | Tungro           |\n",
            "+----------+-------------------+------------------+\n",
            "|        5 | Neck blast        | Neck blast       |\n",
            "+----------+-------------------+------------------+\n",
            "|        6 | Tungro            | Tungro           |\n",
            "+----------+-------------------+------------------+\n",
            "|        7 | Bacterial Blight  | Bacterial Blight |\n",
            "+----------+-------------------+------------------+\n",
            "|        8 | Leaf blast        | Leaf blast       |\n",
            "+----------+-------------------+------------------+\n",
            "|        9 | Bacterial Blight  | Bacterial Blight |\n",
            "+----------+-------------------+------------------+\n",
            "|       10 | Bacterial Blight  | Bacterial Blight |\n",
            "+----------+-------------------+------------------+\n",
            "|       11 | Tungro            | Tungro           |\n",
            "+----------+-------------------+------------------+\n",
            "|       12 | Tungro            | Tungro           |\n",
            "+----------+-------------------+------------------+\n",
            "|       13 | Neck blast        | Neck blast       |\n",
            "+----------+-------------------+------------------+\n",
            "|       14 | Neck blast        | Neck blast       |\n",
            "+----------+-------------------+------------------+\n",
            "|       15 | Neck blast        | Neck blast       |\n",
            "+----------+-------------------+------------------+\n",
            "|       16 | Neck blast        | Neck blast       |\n",
            "+----------+-------------------+------------------+\n",
            "|       17 | Bacterial Blight  | Bacterial Blight |\n",
            "+----------+-------------------+------------------+\n",
            "|       18 | Leaf blast        | Leaf blast       |\n",
            "+----------+-------------------+------------------+\n",
            "|       19 | False Smut        | False Smut       |\n",
            "+----------+-------------------+------------------+\n",
            "|       20 | Neck blast        | Neck blast       |\n",
            "+----------+-------------------+------------------+\n",
            "|       21 | Leaf blast        | Leaf blast       |\n",
            "+----------+-------------------+------------------+\n",
            "|       22 | Tungro            | Tungro           |\n",
            "+----------+-------------------+------------------+\n",
            "|       23 | Leaf blast        | Leaf blast       |\n",
            "+----------+-------------------+------------------+\n",
            "|       24 | Leaf blast        | Leaf blast       |\n",
            "+----------+-------------------+------------------+\n",
            "|       25 | Leaf blast        | Leaf blast       |\n",
            "+----------+-------------------+------------------+\n",
            "|       26 | Leaf blast        | Leaf blast       |\n",
            "+----------+-------------------+------------------+\n",
            "|       27 | Tungro            | Tungro           |\n",
            "+----------+-------------------+------------------+\n",
            "|       28 | Neck blast        | Neck blast       |\n",
            "+----------+-------------------+------------------+\n",
            "|       29 | Neck blast        | Neck blast       |\n",
            "+----------+-------------------+------------------+\n",
            "|       30 | Neck blast        | Neck blast       |\n",
            "+----------+-------------------+------------------+\n",
            "|       31 | Neck blast        | Neck blast       |\n",
            "+----------+-------------------+------------------+\n",
            "|       32 | False Smut        | False Smut       |\n",
            "+----------+-------------------+------------------+\n",
            "|       33 | Leaf blast        | Leaf blast       |\n",
            "+----------+-------------------+------------------+\n",
            "|       34 | Bacterial Blight  | Bacterial Blight |\n",
            "+----------+-------------------+------------------+\n",
            "|       35 | Neck blast        | Neck blast       |\n",
            "+----------+-------------------+------------------+\n",
            "|       36 | Leaf blast        | Leaf blast       |\n",
            "+----------+-------------------+------------------+\n",
            "|       37 | Neck blast        | Neck blast       |\n",
            "+----------+-------------------+------------------+\n",
            "|       38 | Neck blast        | Neck blast       |\n",
            "+----------+-------------------+------------------+\n",
            "|       39 | Bacterial Blight  | Bacterial Blight |\n",
            "+----------+-------------------+------------------+\n",
            "|       40 | Tungro            | Tungro           |\n",
            "+----------+-------------------+------------------+\n",
            "|       41 | Leaf blast        | Leaf blast       |\n",
            "+----------+-------------------+------------------+\n",
            "|       42 | Neck blast        | Neck blast       |\n",
            "+----------+-------------------+------------------+\n",
            "|       43 | Bacterial Blight  | Bacterial Blight |\n",
            "+----------+-------------------+------------------+\n",
            "|       44 | Leaf blast        | Leaf blast       |\n",
            "+----------+-------------------+------------------+\n",
            "|       45 | Bacterial Blight  | Bacterial Blight |\n",
            "+----------+-------------------+------------------+\n",
            "|       46 | Tungro            | Tungro           |\n",
            "+----------+-------------------+------------------+\n",
            "|       47 | Bacterial Blight  | Bacterial Blight |\n",
            "+----------+-------------------+------------------+\n",
            "|       48 | Leaf blast        | Sheath Blight    |\n",
            "+----------+-------------------+------------------+\n",
            "|       49 | Neck blast        | Neck blast       |\n",
            "+----------+-------------------+------------------+\n",
            "|       50 | False Smut        | False Smut       |\n",
            "+----------+-------------------+------------------+\n",
            "|       51 | Neck blast        | Neck blast       |\n",
            "+----------+-------------------+------------------+\n",
            "|       52 | Leaf blast        | Leaf blast       |\n",
            "+----------+-------------------+------------------+\n",
            "|       53 | Leaf blast        | Sheath Blight    |\n",
            "+----------+-------------------+------------------+\n",
            "|       54 | Leaf blast        | Leaf blast       |\n",
            "+----------+-------------------+------------------+\n",
            "|       55 | Bacterial Blight  | Bacterial Blight |\n",
            "+----------+-------------------+------------------+\n",
            "|       56 | Tungro            | Tungro           |\n",
            "+----------+-------------------+------------------+\n",
            "|       57 | Bacterial Blight  | Bacterial Blight |\n",
            "+----------+-------------------+------------------+\n",
            "|       58 | Neck blast        | Neck blast       |\n",
            "+----------+-------------------+------------------+\n",
            "|       59 | Bacterial Blight  | Tungro           |\n",
            "+----------+-------------------+------------------+\n",
            "|       60 | Neck blast        | Neck blast       |\n",
            "+----------+-------------------+------------------+\n",
            "|       61 | Neck blast        | Neck blast       |\n",
            "+----------+-------------------+------------------+\n",
            "|       62 | Bacterial Blight  | Bacterial Blight |\n",
            "+----------+-------------------+------------------+\n",
            "|       63 | Leaf blast        | Sheath Blight    |\n",
            "+----------+-------------------+------------------+\n",
            "|       64 | Tungro            | Tungro           |\n",
            "+----------+-------------------+------------------+\n",
            "|       65 | Neck blast        | Neck blast       |\n",
            "+----------+-------------------+------------------+\n",
            "|       66 | Neck blast        | Neck blast       |\n",
            "+----------+-------------------+------------------+\n",
            "|       67 | Tungro            | Tungro           |\n",
            "+----------+-------------------+------------------+\n",
            "|       68 | Bakanae Pic       | Bakanae Pic      |\n",
            "+----------+-------------------+------------------+\n",
            "|       69 | Tungro            | Tungro           |\n",
            "+----------+-------------------+------------------+\n",
            "|       70 | Neck blast        | Neck blast       |\n",
            "+----------+-------------------+------------------+\n",
            "|       71 | Leaf blast        | Leaf blast       |\n",
            "+----------+-------------------+------------------+\n",
            "|       72 | Bakanae Pic       | Bakanae Pic      |\n",
            "+----------+-------------------+------------------+\n",
            "|       73 | Leaf blast        | Leaf blast       |\n",
            "+----------+-------------------+------------------+\n",
            "|       74 | Tungro            | Tungro           |\n",
            "+----------+-------------------+------------------+\n",
            "|       75 | Bacterial Blight  | Bacterial Blight |\n",
            "+----------+-------------------+------------------+\n",
            "|       76 | Neck blast        | Neck blast       |\n",
            "+----------+-------------------+------------------+\n",
            "|       77 | Leaf blast        | Leaf blast       |\n",
            "+----------+-------------------+------------------+\n",
            "|       78 | Node blast        | Node blast       |\n",
            "+----------+-------------------+------------------+\n",
            "|       79 | Tungro            | Tungro           |\n",
            "+----------+-------------------+------------------+\n",
            "|       80 | Neck blast        | Neck blast       |\n",
            "+----------+-------------------+------------------+\n",
            "|       81 | Neck blast        | Neck blast       |\n",
            "+----------+-------------------+------------------+\n",
            "|       82 | Bacterial Blight  | Bacterial Blight |\n",
            "+----------+-------------------+------------------+\n",
            "|       83 | Neck blast        | Neck blast       |\n",
            "+----------+-------------------+------------------+\n",
            "|       84 | Leaf blast        | Leaf blast       |\n",
            "+----------+-------------------+------------------+\n",
            "|       85 | Bakanae Pic       | Bakanae Pic      |\n",
            "+----------+-------------------+------------------+\n",
            "|       86 | Neck blast        | Neck blast       |\n",
            "+----------+-------------------+------------------+\n",
            "|       87 | Neck blast        | Neck blast       |\n",
            "+----------+-------------------+------------------+\n",
            "|       88 | Neck blast        | Neck blast       |\n",
            "+----------+-------------------+------------------+\n",
            "|       89 | Neck blast        | Neck blast       |\n",
            "+----------+-------------------+------------------+\n",
            "|       90 | Leaf blast        | Leaf blast       |\n",
            "+----------+-------------------+------------------+\n",
            "|       91 | Leaf blast        | Leaf blast       |\n",
            "+----------+-------------------+------------------+\n",
            "|       92 | Bacterial Blight  | Bacterial Blight |\n",
            "+----------+-------------------+------------------+\n",
            "|       93 | Leaf blast        | Leaf blast       |\n",
            "+----------+-------------------+------------------+\n",
            "|       94 | Leaf blast        | Leaf blast       |\n",
            "+----------+-------------------+------------------+\n",
            "|       95 | Bacterial Blight  | Bacterial Blight |\n",
            "+----------+-------------------+------------------+\n",
            "|       96 | Bacterial Blight  | Bacterial Blight |\n",
            "+----------+-------------------+------------------+\n",
            "|       97 | Neck blast        | Neck blast       |\n",
            "+----------+-------------------+------------------+\n",
            "|       98 | Bacterial Blight  | Bacterial Blight |\n",
            "+----------+-------------------+------------------+\n",
            "|       99 | Neck blast        | Neck blast       |\n",
            "+----------+-------------------+------------------+\n",
            "|      100 | Neck blast        | Neck blast       |\n",
            "+----------+-------------------+------------------+\n",
            "|      101 | Leaf blast        | Leaf blast       |\n",
            "+----------+-------------------+------------------+\n",
            "|      102 | Tungro            | Tungro           |\n",
            "+----------+-------------------+------------------+\n",
            "|      103 | Neck blast        | Neck blast       |\n",
            "+----------+-------------------+------------------+\n",
            "|      104 | Tungro            | Tungro           |\n",
            "+----------+-------------------+------------------+\n",
            "|      105 | Sheath Blight     | Sheath Blight    |\n",
            "+----------+-------------------+------------------+\n",
            "|      106 | Bacterial Blight  | Bacterial Blight |\n",
            "+----------+-------------------+------------------+\n",
            "|      107 | Leaf blast        | Leaf blast       |\n",
            "+----------+-------------------+------------------+\n",
            "|      108 | Leaf blast        | Leaf blast       |\n",
            "+----------+-------------------+------------------+\n",
            "|      109 | Tungro            | Tungro           |\n",
            "+----------+-------------------+------------------+\n",
            "|      110 | Leaf blast        | Leaf blast       |\n",
            "+----------+-------------------+------------------+\n",
            "|      111 | Neck blast        | Neck blast       |\n",
            "+----------+-------------------+------------------+\n",
            "|      112 | Tungro            | Tungro           |\n",
            "+----------+-------------------+------------------+\n",
            "|      113 | Leaf blast        | Sheath Blight    |\n",
            "+----------+-------------------+------------------+\n",
            "|      114 | Bacterial Blight  | Bacterial Blight |\n",
            "+----------+-------------------+------------------+\n",
            "|      115 | Neck blast        | Neck blast       |\n",
            "+----------+-------------------+------------------+\n",
            "|      116 | Leaf blast        | Leaf blast       |\n",
            "+----------+-------------------+------------------+\n",
            "|      117 | Leaf blast        | Leaf blast       |\n",
            "+----------+-------------------+------------------+\n",
            "|      118 | Tungro            | Tungro           |\n",
            "+----------+-------------------+------------------+\n",
            "|      119 | Tungro            | Tungro           |\n",
            "+----------+-------------------+------------------+\n",
            "|      120 | Leaf blast        | Leaf blast       |\n",
            "+----------+-------------------+------------------+\n",
            "|      121 | False Smut        | False Smut       |\n",
            "+----------+-------------------+------------------+\n",
            "|      122 | Bacterial Blight  | Bacterial Blight |\n",
            "+----------+-------------------+------------------+\n",
            "|      123 | Leaf blast        | Sheath Blight    |\n",
            "+----------+-------------------+------------------+\n",
            "|      124 | Tungro            | Tungro           |\n",
            "+----------+-------------------+------------------+\n",
            "|      125 | Sheath Blight     | Sheath Blight    |\n",
            "+----------+-------------------+------------------+\n",
            "|      126 | False Smut        | Neck blast       |\n",
            "+----------+-------------------+------------------+\n",
            "|      127 | Leaf blast        | Leaf blast       |\n",
            "+----------+-------------------+------------------+\n",
            "|      128 | Tungro            | Tungro           |\n",
            "+----------+-------------------+------------------+\n",
            "|      129 | Neck blast        | Neck blast       |\n",
            "+----------+-------------------+------------------+\n",
            "|      130 | Neck blast        | Neck blast       |\n",
            "+----------+-------------------+------------------+\n",
            "|      131 | Tungro            | Tungro           |\n",
            "+----------+-------------------+------------------+\n",
            "|      132 | Leaf blast        | Leaf blast       |\n",
            "+----------+-------------------+------------------+\n",
            "|      133 | Neck blast        | Neck blast       |\n",
            "+----------+-------------------+------------------+\n",
            "|      134 | Neck blast        | Neck blast       |\n",
            "+----------+-------------------+------------------+\n",
            "|      135 | Neck blast        | Neck blast       |\n",
            "+----------+-------------------+------------------+\n",
            "|      136 | Bacterial Blight  | Bacterial Blight |\n",
            "+----------+-------------------+------------------+\n",
            "|      137 | Leaf blast        | Leaf blast       |\n",
            "+----------+-------------------+------------------+\n",
            "|      138 | Leaf blast        | Leaf blast       |\n",
            "+----------+-------------------+------------------+\n",
            "|      139 | Neck blast        | Neck blast       |\n",
            "+----------+-------------------+------------------+\n",
            "|      140 | Neck blast        | Neck blast       |\n",
            "+----------+-------------------+------------------+\n",
            "|      141 | Leaf blast        | Leaf blast       |\n",
            "+----------+-------------------+------------------+\n",
            "|      142 | Leaf blast        | Leaf blast       |\n",
            "+----------+-------------------+------------------+\n",
            "|      143 | Bacterial Blight  | Bacterial Blight |\n",
            "+----------+-------------------+------------------+\n",
            "|      144 | Leaf blast        | Leaf blast       |\n",
            "+----------+-------------------+------------------+\n",
            "|      145 | Bacterial Blight  | Bacterial Blight |\n",
            "+----------+-------------------+------------------+\n",
            "|      146 | Tungro            | Tungro           |\n",
            "+----------+-------------------+------------------+\n",
            "|      147 | Tungro            | Tungro           |\n",
            "+----------+-------------------+------------------+\n",
            "|      148 | Sheath Blight     | Sheath Blight    |\n",
            "+----------+-------------------+------------------+\n",
            "|      149 | Bacterial Blight  | Bacterial Blight |\n",
            "+----------+-------------------+------------------+\n",
            "|      150 | Tungro            | Tungro           |\n",
            "+----------+-------------------+------------------+\n",
            "|      151 | Tungro            | Tungro           |\n",
            "+----------+-------------------+------------------+\n",
            "|      152 | Neck blast        | Neck blast       |\n",
            "+----------+-------------------+------------------+\n",
            "|      153 | Neck blast        | Neck blast       |\n",
            "+----------+-------------------+------------------+\n",
            "|      154 | Tungro            | Tungro           |\n",
            "+----------+-------------------+------------------+\n",
            "|      155 | Bacterial Blight  | Bacterial Blight |\n",
            "+----------+-------------------+------------------+\n",
            "|      156 | Sheath Blight     | Sheath Blight    |\n",
            "+----------+-------------------+------------------+\n",
            "|      157 | Leaf blast        | Leaf blast       |\n",
            "+----------+-------------------+------------------+\n",
            "|      158 | Neck blast        | Neck blast       |\n",
            "+----------+-------------------+------------------+\n",
            "|      159 | Sheath Blight     | Sheath Blight    |\n",
            "+----------+-------------------+------------------+\n",
            "|      160 | Bakanae Pic       | Bakanae Pic      |\n",
            "+----------+-------------------+------------------+\n",
            "|      161 | False Smut        | False Smut       |\n",
            "+----------+-------------------+------------------+\n",
            "|      162 | Leaf blast        | Leaf blast       |\n",
            "+----------+-------------------+------------------+\n",
            "|      163 | Neck blast        | Neck blast       |\n",
            "+----------+-------------------+------------------+\n",
            "|      164 | Neck blast        | Neck blast       |\n",
            "+----------+-------------------+------------------+\n",
            "|      165 | Neck blast        | Neck blast       |\n",
            "+----------+-------------------+------------------+\n",
            "|      166 | Leaf blast        | Leaf blast       |\n",
            "+----------+-------------------+------------------+\n",
            "|      167 | Tungro            | Tungro           |\n",
            "+----------+-------------------+------------------+\n",
            "|      168 | Bacterial Blight  | Neck blast       |\n",
            "+----------+-------------------+------------------+\n",
            "|      169 | Neck blast        | Neck blast       |\n",
            "+----------+-------------------+------------------+\n",
            "|      170 | Leaf blast        | Leaf blast       |\n",
            "+----------+-------------------+------------------+\n",
            "|      171 | Bacterial Blight  | Bacterial Blight |\n",
            "+----------+-------------------+------------------+\n",
            "|      172 | Neck blast        | Neck blast       |\n",
            "+----------+-------------------+------------------+\n",
            "|      173 | Sheath Blight     | Leaf blast       |\n",
            "+----------+-------------------+------------------+\n",
            "|      174 | False Smut        | Neck blast       |\n",
            "+----------+-------------------+------------------+\n",
            "|      175 | Leaf blast        | Leaf blast       |\n",
            "+----------+-------------------+------------------+\n",
            "|      176 | Neck blast        | Neck blast       |\n",
            "+----------+-------------------+------------------+\n",
            "|      177 | Leaf blast        | Leaf blast       |\n",
            "+----------+-------------------+------------------+\n",
            "|      178 | Bacterial Blight  | Bacterial Blight |\n",
            "+----------+-------------------+------------------+\n",
            "|      179 | Tungro            | Tungro           |\n",
            "+----------+-------------------+------------------+\n",
            "|      180 | Leaf blast        | Leaf blast       |\n",
            "+----------+-------------------+------------------+\n",
            "|      181 | Neck blast        | Neck blast       |\n",
            "+----------+-------------------+------------------+\n",
            "|      182 | Tungro            | Tungro           |\n",
            "+----------+-------------------+------------------+\n",
            "|      183 | Node blast        | Node blast       |\n",
            "+----------+-------------------+------------------+\n",
            "|      184 | Leaf blast        | Leaf blast       |\n",
            "+----------+-------------------+------------------+\n",
            "|      185 | Bakanae Pic       | Bakanae Pic      |\n",
            "+----------+-------------------+------------------+\n",
            "|      186 | Leaf blast        | Leaf blast       |\n",
            "+----------+-------------------+------------------+\n",
            "|      187 | Leaf blast        | Leaf blast       |\n",
            "+----------+-------------------+------------------+\n",
            "|      188 | Leaf blast        | Leaf blast       |\n",
            "+----------+-------------------+------------------+\n",
            "|      189 | Sheath Blight     | Sheath Blight    |\n",
            "+----------+-------------------+------------------+\n",
            "|      190 | Tungro            | Tungro           |\n",
            "+----------+-------------------+------------------+\n",
            "|      191 | Leaf blast        | Leaf blast       |\n",
            "+----------+-------------------+------------------+\n",
            "|      192 | Neck blast        | Neck blast       |\n",
            "+----------+-------------------+------------------+\n",
            "|      193 | Tungro            | Tungro           |\n",
            "+----------+-------------------+------------------+\n",
            "|      194 | Neck blast        | Neck blast       |\n",
            "+----------+-------------------+------------------+\n",
            "|      195 | False Smut        | False Smut       |\n",
            "+----------+-------------------+------------------+\n",
            "|      196 | Neck blast        | Neck blast       |\n",
            "+----------+-------------------+------------------+\n",
            "|      197 | Neck blast        | Neck blast       |\n",
            "+----------+-------------------+------------------+\n",
            "|      198 | Neck blast        | Neck blast       |\n",
            "+----------+-------------------+------------------+\n",
            "|      199 | Bacterial Blight  | Bacterial Blight |\n",
            "+----------+-------------------+------------------+\n",
            "|      200 | Leaf blast        | Leaf blast       |\n",
            "+----------+-------------------+------------------+\n",
            "|      201 | Neck blast        | Neck blast       |\n",
            "+----------+-------------------+------------------+\n",
            "|      202 | Neck blast        | Neck blast       |\n",
            "+----------+-------------------+------------------+\n",
            "|      203 | Bacterial Blight  | Bacterial Blight |\n",
            "+----------+-------------------+------------------+\n",
            "|      204 | Neck blast        | Neck blast       |\n",
            "+----------+-------------------+------------------+\n",
            "|      205 | Leaf blast        | Sheath Blight    |\n",
            "+----------+-------------------+------------------+\n",
            "|      206 | Neck blast        | Neck blast       |\n",
            "+----------+-------------------+------------------+\n",
            "|      207 | Tungro            | Tungro           |\n",
            "+----------+-------------------+------------------+\n",
            "|      208 | Tungro            | Tungro           |\n",
            "+----------+-------------------+------------------+\n",
            "|      209 | Neck blast        | Neck blast       |\n",
            "+----------+-------------------+------------------+\n",
            "|      210 | Bacterial Blight  | Neck blast       |\n",
            "+----------+-------------------+------------------+\n",
            "|      211 | Bakanae Pic       | Bakanae Pic      |\n",
            "+----------+-------------------+------------------+\n",
            "|      212 | Tungro            | Tungro           |\n",
            "+----------+-------------------+------------------+\n",
            "|      213 | Neck blast        | Neck blast       |\n",
            "+----------+-------------------+------------------+\n",
            "|      214 | Neck blast        | Neck blast       |\n",
            "+----------+-------------------+------------------+\n",
            "|      215 | Neck blast        | Neck blast       |\n",
            "+----------+-------------------+------------------+\n",
            "|      216 | Leaf blast        | Leaf blast       |\n",
            "+----------+-------------------+------------------+\n",
            "|      217 | Bacterial Blight  | Leaf blast       |\n",
            "+----------+-------------------+------------------+\n",
            "|      218 | Neck blast        | Neck blast       |\n",
            "+----------+-------------------+------------------+\n",
            "|      219 | Tungro            | Tungro           |\n",
            "+----------+-------------------+------------------+\n",
            "|      220 | Leaf blast        | Leaf blast       |\n",
            "+----------+-------------------+------------------+\n",
            "|      221 | Tungro            | Tungro           |\n",
            "+----------+-------------------+------------------+\n",
            "|      222 | Neck blast        | Neck blast       |\n",
            "+----------+-------------------+------------------+\n",
            "|      223 | Leaf blast        | Leaf blast       |\n",
            "+----------+-------------------+------------------+\n",
            "|      224 | Tungro            | Tungro           |\n",
            "+----------+-------------------+------------------+\n",
            "|      225 | Neck blast        | Neck blast       |\n",
            "+----------+-------------------+------------------+\n",
            "|      226 | Tungro            | Tungro           |\n",
            "+----------+-------------------+------------------+\n",
            "|      227 | Neck blast        | Neck blast       |\n",
            "+----------+-------------------+------------------+\n",
            "|      228 | Leaf blast        | Leaf blast       |\n",
            "+----------+-------------------+------------------+\n",
            "|      229 | Bacterial Blight  | Bacterial Blight |\n",
            "+----------+-------------------+------------------+\n",
            "|      230 | Neck blast        | Neck blast       |\n",
            "+----------+-------------------+------------------+\n",
            "|      231 | Neck blast        | Neck blast       |\n",
            "+----------+-------------------+------------------+\n",
            "|      232 | Bakanae Pic       | Bakanae Pic      |\n",
            "+----------+-------------------+------------------+\n",
            "|      233 | Node blast        | Node blast       |\n",
            "+----------+-------------------+------------------+\n",
            "|      234 | False Smut        | False Smut       |\n",
            "+----------+-------------------+------------------+\n",
            "|      235 | Neck blast        | Neck blast       |\n",
            "+----------+-------------------+------------------+\n",
            "|      236 | Tungro            | Tungro           |\n",
            "+----------+-------------------+------------------+\n",
            "|      237 | Tungro            | Tungro           |\n",
            "+----------+-------------------+------------------+\n",
            "|      238 | Leaf blast        | Leaf blast       |\n",
            "+----------+-------------------+------------------+\n",
            "|      239 | Neck blast        | Neck blast       |\n",
            "+----------+-------------------+------------------+\n",
            "|      240 | Tungro            | Tungro           |\n",
            "+----------+-------------------+------------------+\n"
          ]
        }
      ]
    },
    {
      "cell_type": "code",
      "source": [
        "table_data = []\n",
        "for i, class_name in enumerate(test_dataset.dataset.classes):\n",
        "    accuracy = class_correct[i] / class_total[i] * 100 if class_total[i] > 0 else 0.0\n",
        "    table_data.append([class_name, class_correct[i], class_total[i], f\"{accuracy:.2f}%\"])\n",
        "\n",
        "table_headers = [\"Class\", \"Correct\", \"Total\", \"Accuracy\"]\n",
        "print(tabulate(table_data, headers=table_headers, tablefmt=\"grid\"))"
      ],
      "metadata": {
        "colab": {
          "base_uri": "https://localhost:8080/"
        },
        "id": "qfQPbS-y5sVZ",
        "outputId": "ed0e5a89-992d-42c1-a27d-0fb33f3a2ec5"
      },
      "execution_count": 22,
      "outputs": [
        {
          "output_type": "stream",
          "name": "stdout",
          "text": [
            "+------------------+-----------+---------+------------+\n",
            "| Class            |   Correct |   Total | Accuracy   |\n",
            "+==================+===========+=========+============+\n",
            "| Bacterial Blight |        32 |      32 | 100.00%    |\n",
            "+------------------+-----------+---------+------------+\n",
            "| Bakanae Pic      |         7 |       7 | 100.00%    |\n",
            "+------------------+-----------+---------+------------+\n",
            "| False Smut       |         7 |       7 | 100.00%    |\n",
            "+------------------+-----------+---------+------------+\n",
            "| Leaf blast       |        54 |      56 | 96.43%     |\n",
            "+------------------+-----------+---------+------------+\n",
            "| Neck blast       |        75 |      79 | 94.94%     |\n",
            "+------------------+-----------+---------+------------+\n",
            "| Node blast       |         3 |       3 | 100.00%    |\n",
            "+------------------+-----------+---------+------------+\n",
            "| Sheath Blight    |         6 |      12 | 50.00%     |\n",
            "+------------------+-----------+---------+------------+\n",
            "| Tungro           |        43 |      44 | 97.73%     |\n",
            "+------------------+-----------+---------+------------+\n"
          ]
        }
      ]
    },
    {
      "cell_type": "code",
      "source": [
        "# Plot Training and Validation Accuracy\n",
        "\n",
        "plt.plot(range(1, num_epochs+1), train_accuracies, label='Training Accuracy', color='blue')\n",
        "plt.plot(range(1, num_epochs+1), val_accuracies, label='Validation Accuracy', color='orange')\n",
        "plt.xlabel('Epoch')\n",
        "plt.ylabel('Accuracy')\n",
        "plt.title('Training and Validation Accuracy over Epochs')\n",
        "plt.legend()\n"
      ],
      "metadata": {
        "colab": {
          "base_uri": "https://localhost:8080/",
          "height": 489
        },
        "id": "_kQ9oej_7BTE",
        "outputId": "404255a0-a48e-4218-fe91-9e0835fd0d5f"
      },
      "execution_count": 27,
      "outputs": [
        {
          "output_type": "execute_result",
          "data": {
            "text/plain": [
              "<matplotlib.legend.Legend at 0x798ae85751e0>"
            ]
          },
          "metadata": {},
          "execution_count": 27
        },
        {
          "output_type": "display_data",
          "data": {
            "text/plain": [
              "<Figure size 640x480 with 1 Axes>"
            ],
            "image/png": "[encoded data removed]"
          },
          "metadata": {}
        }
      ]
    },
    {
      "cell_type": "code",
      "source": [
        "# Plot Training and Validation Loss\n",
        "plt.plot(range(1, num_epochs+1), train_losses, label='Training Loss', color='blue')\n",
        "plt.plot(range(1, num_epochs+1), val_losses, label='Validation Loss', color='red')\n",
        "plt.xlabel('Epoch')\n",
        "plt.ylabel('Loss')\n",
        "plt.title('Training and Validation Loss over Epochs')\n",
        "plt.legend()\n",
        "\n",
        "plt.tight_layout()\n",
        "plt.show()"
      ],
      "metadata": {
        "colab": {
          "base_uri": "https://localhost:8080/",
          "height": 487
        },
        "id": "-Y6okSI796QI",
        "outputId": "1afb3362-26d2-455a-bbf7-3fea03621065"
      },
      "execution_count": 28,
      "outputs": [
        {
          "output_type": "display_data",
          "data": {
            "text/plain": [
              "<Figure size 640x480 with 1 Axes>"
            ],
            "image/png": "[encoded data removed]"
          },
          "metadata": {}
        }
      ]
    },
    {
      "cell_type": "code",
      "source": [
        "from sklearn.metrics import precision_recall_fscore_support, confusion_matrix\n",
        "import seaborn as sns\n",
        "\n",
        "# Calculate precision, recall, and F1-score\n",
        "precision, recall, f1, _ = precision_recall_fscore_support(actual_labels, predicted_labels, average='weighted')\n",
        "\n",
        "# Create a table with weighted precision, recall, and F1-score\n",
        "weighted_metrics = [[\"Weighted\", precision, recall, f1]]\n",
        "\n",
        "table_headers = [\"Class\", \"Precision\", \"Recall\", \"F1-score\"]\n",
        "print(tabulate(weighted_metrics, headers=table_headers, tablefmt=\"grid\"))\n",
        "\n",
        "\n",
        "# Calculate confusion matrix\n",
        "conf_matrix = confusion_matrix(actual_labels, predicted_labels)\n",
        "# Print confusion matrix\n",
        "print(\"\\nConfusion Matrix:\")\n",
        "print(conf_matrix)\n",
        "\n"
      ],
      "metadata": {
        "colab": {
          "base_uri": "https://localhost:8080/"
        },
        "id": "xLozeDcn-wgX",
        "outputId": "acf9b1ac-b06c-427b-df4e-ead75a2be716"
      },
      "execution_count": 90,
      "outputs": [
        {
          "output_type": "stream",
          "name": "stdout",
          "text": [
            "+----------+-------------+----------+------------+\n",
            "| Class    |   Precision |   Recall |   F1-score |\n",
            "+==========+=============+==========+============+\n",
            "| Weighted |    0.948228 | 0.945833 |   0.943341 |\n",
            "+----------+-------------+----------+------------+\n",
            "\n",
            "Confusion Matrix:\n",
            "[[32  0  0  0  0  0  0  0]\n",
            " [ 0  7  0  0  0  0  0  0]\n",
            " [ 0  0  7  0  0  0  0  0]\n",
            " [ 1  0  0 54  0  0  1  0]\n",
            " [ 2  0  2  0 75  0  0  0]\n",
            " [ 0  0  0  0  0  3  0  0]\n",
            " [ 0  0  0  6  0  0  6  0]\n",
            " [ 1  0  0  0  0  0  0 43]]\n"
          ]
        }
      ]
    },
    {
      "cell_type": "code",
      "source": [
        "# Plot accuracy graphs\n",
        "\n",
        "# Plot Precision, Recall, and F1-score\n",
        "metrics = ['Precision', 'Recall', 'F1-score']\n",
        "values = [precision, recall, f1]\n",
        "plt.figure(figsize=(4, 4))\n",
        "plt.bar(metrics, values, color=['blue', 'green', 'red'])\n",
        "plt.ylabel('Score')\n",
        "plt.title('Precision, Recall, and F1-score')\n",
        "plt.tight_layout()\n",
        "plt.show()\n",
        "\n",
        "# Plot confusion matrix\n",
        "plt.figure(figsize=(10, 8))\n",
        "plt.subplot(2, 2, 2)\n",
        "sns.heatmap(conf_matrix, annot=True, fmt=\"d\", cmap=\"Blues\", xticklabels=test_dataset.dataset.classes, yticklabels=test_dataset.dataset.classes)\n",
        "plt.xlabel(\"Predicted\")\n",
        "plt.ylabel(\"Actual\")\n",
        "plt.title(\"Confusion Matrix\")\n",
        "plt.show()"
      ],
      "metadata": {
        "colab": {
          "base_uri": "https://localhost:8080/",
          "height": 865
        },
        "id": "pRO-xGAgCIDO",
        "outputId": "07e53a7f-61ae-4785-857e-ea50684392be"
      },
      "execution_count": 94,
      "outputs": [
        {
          "output_type": "display_data",
          "data": {
            "text/plain": [
              "<Figure size 400x400 with 1 Axes>"
            ],
            "image/png": "[encoded data removed]"
          },
          "metadata": {}
        },
        {
          "output_type": "display_data",
          "data": {
            "text/plain": [
              "<Figure size 1000x800 with 2 Axes>"
            ],
            "image/png": "[encoded data removed]"
          },
          "metadata": {}
        }
      ]
    },
    {
      "cell_type": "code",
      "source": [
        "# Calculate precision, recall, and F1-score\n",
        "precision, recall, f1, _ = precision_recall_fscore_support(actual_labels, predicted_labels, average=None)\n",
        "\n",
        "# Create a table with precision, recall, and F1-score\n",
        "table_data = []\n",
        "for i, class_name in enumerate(test_dataset.dataset.classes):\n",
        "    table_data.append([class_name, precision[i], recall[i], f1[i]])\n",
        "\n",
        "table_headers = [\"Class\", \"Precision\", \"Recall\", \"F1-score\"]\n",
        "print(tabulate(table_data, headers=table_headers, tablefmt=\"grid\"))"
      ],
      "metadata": {
        "colab": {
          "base_uri": "https://localhost:8080/"
        },
        "id": "bOvZetRlF8fa",
        "outputId": "80bd2832-7656-4212-a2bf-bc523d88b715"
      },
      "execution_count": 79,
      "outputs": [
        {
          "output_type": "stream",
          "name": "stdout",
          "text": [
            "+------------------+-------------+----------+------------+\n",
            "| Class            |   Precision |   Recall |   F1-score |\n",
            "+==================+=============+==========+============+\n",
            "| Bacterial Blight |    0.888889 | 1        |   0.941176 |\n",
            "+------------------+-------------+----------+------------+\n",
            "| Bakanae Pic      |    1        | 1        |   1        |\n",
            "+------------------+-------------+----------+------------+\n",
            "| False Smut       |    0.777778 | 1        |   0.875    |\n",
            "+------------------+-------------+----------+------------+\n",
            "| Leaf blast       |    0.9      | 0.964286 |   0.931034 |\n",
            "+------------------+-------------+----------+------------+\n",
            "| Neck blast       |    1        | 0.949367 |   0.974026 |\n",
            "+------------------+-------------+----------+------------+\n",
            "| Node blast       |    1        | 1        |   1        |\n",
            "+------------------+-------------+----------+------------+\n",
            "| Sheath Blight    |    0.857143 | 0.5      |   0.631579 |\n",
            "+------------------+-------------+----------+------------+\n",
            "| Tungro           |    1        | 0.977273 |   0.988506 |\n",
            "+------------------+-------------+----------+------------+\n"
          ]
        }
      ]
    },
    {
      "cell_type": "code",
      "source": [
        "# Plot precision, recall, and F1-score\n",
        "x = np.arange(len(test_dataset.dataset.classes))\n",
        "width = 0.2\n",
        "\n",
        "plt.bar(x - width, precision, width, label='Precision', color='blue')\n",
        "plt.bar(x, recall, width, label='Recall', color='green')\n",
        "plt.bar(x + width, f1, width, label='F1-score', color='orange')\n",
        "\n",
        "plt.xlabel(\"Class\")\n",
        "plt.ylabel(\"Score\")\n",
        "plt.title(\"Precision, Recall, and F1-score per Class\")\n",
        "plt.xticks(x, test_dataset.dataset.classes, rotation=45)\n",
        "plt.legend()\n",
        "plt.tight_layout()\n",
        "plt.show()"
      ],
      "metadata": {
        "colab": {
          "base_uri": "https://localhost:8080/",
          "height": 487
        },
        "id": "PVKjxLUmGdxp",
        "outputId": "423b1b66-bae6-4019-9e23-53de1edfac2b"
      },
      "execution_count": 82,
      "outputs": [
        {
          "output_type": "display_data",
          "data": {
            "text/plain": [
              "<Figure size 640x480 with 1 Axes>"
            ],
            "image/png": "[encoded data removed]"
          },
          "metadata": {}
        }
      ]
    },
    {
      "cell_type": "code",
      "source": [
        "pip install torchsummary\n"
      ],
      "metadata": {
        "colab": {
          "base_uri": "https://localhost:8080/"
        },
        "id": "oWI3AnfcIVKx",
        "outputId": "e98c074c-ce6c-48cc-e000-c97eafdc9d6a"
      },
      "execution_count": 83,
      "outputs": [
        {
          "output_type": "stream",
          "name": "stdout",
          "text": [
            "Requirement already satisfied: torchsummary in /usr/local/lib/python3.10/dist-packages (1.5.1)\n"
          ]
        }
      ]
    },
    {
      "cell_type": "code",
      "source": [
        "from torchsummary import summary\n",
        "import torchvision.models as models\n",
        "\n",
        "# ... vgg19...\n",
        "\n",
        "# Print the model summary\n",
        "summary(model, input_size=(3, 224, 224))"
      ],
      "metadata": {
        "colab": {
          "base_uri": "https://localhost:8080/"
        },
        "id": "Mib1noA7I8u7",
        "outputId": "cc10d65b-62b3-43be-ad8b-aa245cfac0a9"
      },
      "execution_count": 86,
      "outputs": [
        {
          "output_type": "stream",
          "name": "stdout",
          "text": [
            "----------------------------------------------------------------\n",
            "        Layer (type)               Output Shape         Param #\n",
            "================================================================\n",
            "            Conv2d-1         [-1, 64, 224, 224]           1,792\n",
            "              ReLU-2         [-1, 64, 224, 224]               0\n",
            "            Conv2d-3         [-1, 64, 224, 224]          36,928\n",
            "              ReLU-4         [-1, 64, 224, 224]               0\n",
            "         MaxPool2d-5         [-1, 64, 112, 112]               0\n",
            "            Conv2d-6        [-1, 128, 112, 112]          73,856\n",
            "              ReLU-7        [-1, 128, 112, 112]               0\n",
            "            Conv2d-8        [-1, 128, 112, 112]         147,584\n",
            "              ReLU-9        [-1, 128, 112, 112]               0\n",
            "        MaxPool2d-10          [-1, 128, 56, 56]               0\n",
            "           Conv2d-11          [-1, 256, 56, 56]         295,168\n",
            "             ReLU-12          [-1, 256, 56, 56]               0\n",
            "           Conv2d-13          [-1, 256, 56, 56]         590,080\n",
            "             ReLU-14          [-1, 256, 56, 56]               0\n",
            "           Conv2d-15          [-1, 256, 56, 56]         590,080\n",
            "             ReLU-16          [-1, 256, 56, 56]               0\n",
            "           Conv2d-17          [-1, 256, 56, 56]         590,080\n",
            "             ReLU-18          [-1, 256, 56, 56]               0\n",
            "        MaxPool2d-19          [-1, 256, 28, 28]               0\n",
            "           Conv2d-20          [-1, 512, 28, 28]       1,180,160\n",
            "             ReLU-21          [-1, 512, 28, 28]               0\n",
            "           Conv2d-22          [-1, 512, 28, 28]       2,359,808\n",
            "             ReLU-23          [-1, 512, 28, 28]               0\n",
            "           Conv2d-24          [-1, 512, 28, 28]       2,359,808\n",
            "             ReLU-25          [-1, 512, 28, 28]               0\n",
            "           Conv2d-26          [-1, 512, 28, 28]       2,359,808\n",
            "             ReLU-27          [-1, 512, 28, 28]               0\n",
            "        MaxPool2d-28          [-1, 512, 14, 14]               0\n",
            "           Conv2d-29          [-1, 512, 14, 14]       2,359,808\n",
            "             ReLU-30          [-1, 512, 14, 14]               0\n",
            "           Conv2d-31          [-1, 512, 14, 14]       2,359,808\n",
            "             ReLU-32          [-1, 512, 14, 14]               0\n",
            "           Conv2d-33          [-1, 512, 14, 14]       2,359,808\n",
            "             ReLU-34          [-1, 512, 14, 14]               0\n",
            "           Conv2d-35          [-1, 512, 14, 14]       2,359,808\n",
            "             ReLU-36          [-1, 512, 14, 14]               0\n",
            "        MaxPool2d-37            [-1, 512, 7, 7]               0\n",
            "AdaptiveAvgPool2d-38            [-1, 512, 7, 7]               0\n",
            "           Linear-39                 [-1, 4096]     102,764,544\n",
            "             ReLU-40                 [-1, 4096]               0\n",
            "          Dropout-41                 [-1, 4096]               0\n",
            "           Linear-42                 [-1, 4096]      16,781,312\n",
            "             ReLU-43                 [-1, 4096]               0\n",
            "          Dropout-44                 [-1, 4096]               0\n",
            "           Linear-45                    [-1, 8]          32,776\n",
            "================================================================\n",
            "Total params: 139,603,016\n",
            "Trainable params: 139,603,016\n",
            "Non-trainable params: 0\n",
            "----------------------------------------------------------------\n",
            "Input size (MB): 0.57\n",
            "Forward/backward pass size (MB): 238.68\n",
            "Params size (MB): 532.54\n",
            "Estimated Total Size (MB): 771.80\n",
            "----------------------------------------------------------------\n"
          ]
        }
      ]
    }
  ]
}